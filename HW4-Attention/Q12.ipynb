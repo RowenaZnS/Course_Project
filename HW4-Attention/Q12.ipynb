{
  "nbformat": 4,
  "nbformat_minor": 0,
  "metadata": {
    "colab": {
      "provenance": []
    },
    "kernelspec": {
      "name": "python3",
      "display_name": "Python 3"
    },
    "language_info": {
      "name": "python"
    }
  },
  "cells": [
    {
      "cell_type": "code",
      "execution_count": 1,
      "metadata": {
        "colab": {
          "base_uri": "https://localhost:8080/"
        },
        "id": "goZzP4HUVYh0",
        "outputId": "a6fb3443-f922-409a-c30f-378061a9a259"
      },
      "outputs": [
        {
          "output_type": "stream",
          "name": "stdout",
          "text": [
            "Requirement already satisfied: deeplay in /usr/local/lib/python3.11/dist-packages (0.1.3)\n",
            "Requirement already satisfied: deeptrack in /usr/local/lib/python3.11/dist-packages (2.0.1)\n",
            "Requirement already satisfied: numpy in /usr/local/lib/python3.11/dist-packages (from deeplay) (2.0.2)\n",
            "Requirement already satisfied: matplotlib in /usr/local/lib/python3.11/dist-packages (from deeplay) (3.10.0)\n",
            "Requirement already satisfied: torch>2.3 in /usr/local/lib/python3.11/dist-packages (from deeplay) (2.6.0+cu124)\n",
            "Requirement already satisfied: lightning in /usr/local/lib/python3.11/dist-packages (from deeplay) (2.5.1.post0)\n",
            "Requirement already satisfied: torchmetrics in /usr/local/lib/python3.11/dist-packages (from deeplay) (1.7.1)\n",
            "Requirement already satisfied: torchvision in /usr/local/lib/python3.11/dist-packages (from deeplay) (0.21.0+cu124)\n",
            "Requirement already satisfied: torch-geometric in /usr/local/lib/python3.11/dist-packages (from deeplay) (2.6.1)\n",
            "Requirement already satisfied: kornia in /usr/local/lib/python3.11/dist-packages (from deeplay) (0.8.0)\n",
            "Requirement already satisfied: scipy in /usr/local/lib/python3.11/dist-packages (from deeplay) (1.15.2)\n",
            "Requirement already satisfied: scikit-image in /usr/local/lib/python3.11/dist-packages (from deeplay) (0.25.2)\n",
            "Requirement already satisfied: rich in /usr/local/lib/python3.11/dist-packages (from deeplay) (13.9.4)\n",
            "Requirement already satisfied: dill in /usr/local/lib/python3.11/dist-packages (from deeplay) (0.4.0)\n",
            "Requirement already satisfied: more_itertools in /usr/local/lib/python3.11/dist-packages (from deeptrack) (10.7.0)\n",
            "Requirement already satisfied: pint in /usr/local/lib/python3.11/dist-packages (from deeptrack) (0.24.4)\n",
            "Requirement already satisfied: pandas in /usr/local/lib/python3.11/dist-packages (from deeptrack) (2.2.2)\n",
            "Requirement already satisfied: tqdm in /usr/local/lib/python3.11/dist-packages (from deeptrack) (4.67.1)\n",
            "Requirement already satisfied: lazy_import in /usr/local/lib/python3.11/dist-packages (from deeptrack) (0.2.2)\n",
            "Requirement already satisfied: gdown in /usr/local/lib/python3.11/dist-packages (from deeptrack) (5.2.0)\n",
            "Requirement already satisfied: filelock in /usr/local/lib/python3.11/dist-packages (from torch>2.3->deeplay) (3.18.0)\n",
            "Requirement already satisfied: typing-extensions>=4.10.0 in /usr/local/lib/python3.11/dist-packages (from torch>2.3->deeplay) (4.13.2)\n",
            "Requirement already satisfied: networkx in /usr/local/lib/python3.11/dist-packages (from torch>2.3->deeplay) (3.4.2)\n",
            "Requirement already satisfied: jinja2 in /usr/local/lib/python3.11/dist-packages (from torch>2.3->deeplay) (3.1.6)\n",
            "Requirement already satisfied: fsspec in /usr/local/lib/python3.11/dist-packages (from torch>2.3->deeplay) (2025.3.2)\n",
            "Requirement already satisfied: nvidia-cuda-nvrtc-cu12==12.4.127 in /usr/local/lib/python3.11/dist-packages (from torch>2.3->deeplay) (12.4.127)\n",
            "Requirement already satisfied: nvidia-cuda-runtime-cu12==12.4.127 in /usr/local/lib/python3.11/dist-packages (from torch>2.3->deeplay) (12.4.127)\n",
            "Requirement already satisfied: nvidia-cuda-cupti-cu12==12.4.127 in /usr/local/lib/python3.11/dist-packages (from torch>2.3->deeplay) (12.4.127)\n",
            "Requirement already satisfied: nvidia-cudnn-cu12==9.1.0.70 in /usr/local/lib/python3.11/dist-packages (from torch>2.3->deeplay) (9.1.0.70)\n",
            "Requirement already satisfied: nvidia-cublas-cu12==12.4.5.8 in /usr/local/lib/python3.11/dist-packages (from torch>2.3->deeplay) (12.4.5.8)\n",
            "Requirement already satisfied: nvidia-cufft-cu12==11.2.1.3 in /usr/local/lib/python3.11/dist-packages (from torch>2.3->deeplay) (11.2.1.3)\n",
            "Requirement already satisfied: nvidia-curand-cu12==10.3.5.147 in /usr/local/lib/python3.11/dist-packages (from torch>2.3->deeplay) (10.3.5.147)\n",
            "Requirement already satisfied: nvidia-cusolver-cu12==11.6.1.9 in /usr/local/lib/python3.11/dist-packages (from torch>2.3->deeplay) (11.6.1.9)\n",
            "Requirement already satisfied: nvidia-cusparse-cu12==12.3.1.170 in /usr/local/lib/python3.11/dist-packages (from torch>2.3->deeplay) (12.3.1.170)\n",
            "Requirement already satisfied: nvidia-cusparselt-cu12==0.6.2 in /usr/local/lib/python3.11/dist-packages (from torch>2.3->deeplay) (0.6.2)\n",
            "Requirement already satisfied: nvidia-nccl-cu12==2.21.5 in /usr/local/lib/python3.11/dist-packages (from torch>2.3->deeplay) (2.21.5)\n",
            "Requirement already satisfied: nvidia-nvtx-cu12==12.4.127 in /usr/local/lib/python3.11/dist-packages (from torch>2.3->deeplay) (12.4.127)\n",
            "Requirement already satisfied: nvidia-nvjitlink-cu12==12.4.127 in /usr/local/lib/python3.11/dist-packages (from torch>2.3->deeplay) (12.4.127)\n",
            "Requirement already satisfied: triton==3.2.0 in /usr/local/lib/python3.11/dist-packages (from torch>2.3->deeplay) (3.2.0)\n",
            "Requirement already satisfied: sympy==1.13.1 in /usr/local/lib/python3.11/dist-packages (from torch>2.3->deeplay) (1.13.1)\n",
            "Requirement already satisfied: mpmath<1.4,>=1.1.0 in /usr/local/lib/python3.11/dist-packages (from sympy==1.13.1->torch>2.3->deeplay) (1.3.0)\n",
            "Requirement already satisfied: beautifulsoup4 in /usr/local/lib/python3.11/dist-packages (from gdown->deeptrack) (4.13.4)\n",
            "Requirement already satisfied: requests[socks] in /usr/local/lib/python3.11/dist-packages (from gdown->deeptrack) (2.32.3)\n",
            "Requirement already satisfied: kornia_rs>=0.1.0 in /usr/local/lib/python3.11/dist-packages (from kornia->deeplay) (0.1.8)\n",
            "Requirement already satisfied: packaging in /usr/local/lib/python3.11/dist-packages (from kornia->deeplay) (24.2)\n",
            "Requirement already satisfied: six in /usr/local/lib/python3.11/dist-packages (from lazy_import->deeptrack) (1.17.0)\n",
            "Requirement already satisfied: PyYAML<8.0,>=5.4 in /usr/local/lib/python3.11/dist-packages (from lightning->deeplay) (6.0.2)\n",
            "Requirement already satisfied: lightning-utilities<2.0,>=0.10.0 in /usr/local/lib/python3.11/dist-packages (from lightning->deeplay) (0.14.3)\n",
            "Requirement already satisfied: pytorch-lightning in /usr/local/lib/python3.11/dist-packages (from lightning->deeplay) (2.5.1.post0)\n",
            "Requirement already satisfied: contourpy>=1.0.1 in /usr/local/lib/python3.11/dist-packages (from matplotlib->deeplay) (1.3.2)\n",
            "Requirement already satisfied: cycler>=0.10 in /usr/local/lib/python3.11/dist-packages (from matplotlib->deeplay) (0.12.1)\n",
            "Requirement already satisfied: fonttools>=4.22.0 in /usr/local/lib/python3.11/dist-packages (from matplotlib->deeplay) (4.57.0)\n",
            "Requirement already satisfied: kiwisolver>=1.3.1 in /usr/local/lib/python3.11/dist-packages (from matplotlib->deeplay) (1.4.8)\n",
            "Requirement already satisfied: pillow>=8 in /usr/local/lib/python3.11/dist-packages (from matplotlib->deeplay) (11.2.1)\n",
            "Requirement already satisfied: pyparsing>=2.3.1 in /usr/local/lib/python3.11/dist-packages (from matplotlib->deeplay) (3.2.3)\n",
            "Requirement already satisfied: python-dateutil>=2.7 in /usr/local/lib/python3.11/dist-packages (from matplotlib->deeplay) (2.9.0.post0)\n",
            "Requirement already satisfied: pytz>=2020.1 in /usr/local/lib/python3.11/dist-packages (from pandas->deeptrack) (2025.2)\n",
            "Requirement already satisfied: tzdata>=2022.7 in /usr/local/lib/python3.11/dist-packages (from pandas->deeptrack) (2025.2)\n",
            "Requirement already satisfied: platformdirs>=2.1.0 in /usr/local/lib/python3.11/dist-packages (from pint->deeptrack) (4.3.7)\n",
            "Requirement already satisfied: flexcache>=0.3 in /usr/local/lib/python3.11/dist-packages (from pint->deeptrack) (0.3)\n",
            "Requirement already satisfied: flexparser>=0.4 in /usr/local/lib/python3.11/dist-packages (from pint->deeptrack) (0.4)\n",
            "Requirement already satisfied: markdown-it-py>=2.2.0 in /usr/local/lib/python3.11/dist-packages (from rich->deeplay) (3.0.0)\n",
            "Requirement already satisfied: pygments<3.0.0,>=2.13.0 in /usr/local/lib/python3.11/dist-packages (from rich->deeplay) (2.19.1)\n",
            "Requirement already satisfied: imageio!=2.35.0,>=2.33 in /usr/local/lib/python3.11/dist-packages (from scikit-image->deeplay) (2.37.0)\n",
            "Requirement already satisfied: tifffile>=2022.8.12 in /usr/local/lib/python3.11/dist-packages (from scikit-image->deeplay) (2025.3.30)\n",
            "Requirement already satisfied: lazy-loader>=0.4 in /usr/local/lib/python3.11/dist-packages (from scikit-image->deeplay) (0.4)\n",
            "Requirement already satisfied: aiohttp in /usr/local/lib/python3.11/dist-packages (from torch-geometric->deeplay) (3.11.15)\n",
            "Requirement already satisfied: psutil>=5.8.0 in /usr/local/lib/python3.11/dist-packages (from torch-geometric->deeplay) (5.9.5)\n",
            "Requirement already satisfied: aiohappyeyeballs>=2.3.0 in /usr/local/lib/python3.11/dist-packages (from aiohttp->torch-geometric->deeplay) (2.6.1)\n",
            "Requirement already satisfied: aiosignal>=1.1.2 in /usr/local/lib/python3.11/dist-packages (from aiohttp->torch-geometric->deeplay) (1.3.2)\n",
            "Requirement already satisfied: attrs>=17.3.0 in /usr/local/lib/python3.11/dist-packages (from aiohttp->torch-geometric->deeplay) (25.3.0)\n",
            "Requirement already satisfied: frozenlist>=1.1.1 in /usr/local/lib/python3.11/dist-packages (from aiohttp->torch-geometric->deeplay) (1.6.0)\n",
            "Requirement already satisfied: multidict<7.0,>=4.5 in /usr/local/lib/python3.11/dist-packages (from aiohttp->torch-geometric->deeplay) (6.4.3)\n",
            "Requirement already satisfied: propcache>=0.2.0 in /usr/local/lib/python3.11/dist-packages (from aiohttp->torch-geometric->deeplay) (0.3.1)\n",
            "Requirement already satisfied: yarl<2.0,>=1.17.0 in /usr/local/lib/python3.11/dist-packages (from aiohttp->torch-geometric->deeplay) (1.20.0)\n",
            "Requirement already satisfied: setuptools in /usr/local/lib/python3.11/dist-packages (from lightning-utilities<2.0,>=0.10.0->lightning->deeplay) (75.2.0)\n",
            "Requirement already satisfied: mdurl~=0.1 in /usr/local/lib/python3.11/dist-packages (from markdown-it-py>=2.2.0->rich->deeplay) (0.1.2)\n",
            "Requirement already satisfied: soupsieve>1.2 in /usr/local/lib/python3.11/dist-packages (from beautifulsoup4->gdown->deeptrack) (2.7)\n",
            "Requirement already satisfied: MarkupSafe>=2.0 in /usr/local/lib/python3.11/dist-packages (from jinja2->torch>2.3->deeplay) (3.0.2)\n",
            "Requirement already satisfied: charset-normalizer<4,>=2 in /usr/local/lib/python3.11/dist-packages (from requests[socks]->gdown->deeptrack) (3.4.1)\n",
            "Requirement already satisfied: idna<4,>=2.5 in /usr/local/lib/python3.11/dist-packages (from requests[socks]->gdown->deeptrack) (3.10)\n",
            "Requirement already satisfied: urllib3<3,>=1.21.1 in /usr/local/lib/python3.11/dist-packages (from requests[socks]->gdown->deeptrack) (2.4.0)\n",
            "Requirement already satisfied: certifi>=2017.4.17 in /usr/local/lib/python3.11/dist-packages (from requests[socks]->gdown->deeptrack) (2025.4.26)\n",
            "Requirement already satisfied: PySocks!=1.5.7,>=1.5.6 in /usr/local/lib/python3.11/dist-packages (from requests[socks]->gdown->deeptrack) (1.7.1)\n"
          ]
        }
      ],
      "source": [
        "!pip install deeplay deeptrack  # Uncomment if using Colab/Kaggle."
      ]
    },
    {
      "cell_type": "code",
      "source": [
        "from google.colab import drive\n",
        "drive.mount('/content/drive')\n",
        "\n",
        "import os\n",
        "os.chdir('/content/drive/My Drive/TIF360/HW4')"
      ],
      "metadata": {
        "colab": {
          "base_uri": "https://localhost:8080/"
        },
        "id": "24raK3q8X05L",
        "outputId": "cfd004d8-ca90-482b-96d5-3e0f463c478e"
      },
      "execution_count": 2,
      "outputs": [
        {
          "output_type": "stream",
          "name": "stdout",
          "text": [
            "Drive already mounted at /content/drive; to attempt to forcibly remount, call drive.mount(\"/content/drive\", force_remount=True).\n"
          ]
        }
      ]
    },
    {
      "cell_type": "code",
      "source": [
        "import pandas as pd\n",
        "\n",
        "dataframe = pd.read_csv(\"jena_climate_2009_2016.csv\", index_col=0)\n",
        "data = dataframe.values\n",
        "header = dataframe.columns.tolist()"
      ],
      "metadata": {
        "id": "FiLoutw9WqGs"
      },
      "execution_count": 3,
      "outputs": []
    },
    {
      "cell_type": "code",
      "source": [
        "print(dataframe.head())"
      ],
      "metadata": {
        "colab": {
          "base_uri": "https://localhost:8080/"
        },
        "id": "v8JfYPt6YIaA",
        "outputId": "073e3a0a-20a8-479b-bd17-bc46038e4025"
      },
      "execution_count": 4,
      "outputs": [
        {
          "output_type": "stream",
          "name": "stdout",
          "text": [
            "                     p (mbar)  T (degC)  Tpot (K)  Tdew (degC)  rh (%)  \\\n",
            "Date Time                                                                \n",
            "01.01.2009 00:10:00    996.52     -8.02    265.40        -8.90    93.3   \n",
            "01.01.2009 00:20:00    996.57     -8.41    265.01        -9.28    93.4   \n",
            "01.01.2009 00:30:00    996.53     -8.51    264.91        -9.31    93.9   \n",
            "01.01.2009 00:40:00    996.51     -8.31    265.12        -9.07    94.2   \n",
            "01.01.2009 00:50:00    996.51     -8.27    265.15        -9.04    94.1   \n",
            "\n",
            "                     VPmax (mbar)  VPact (mbar)  VPdef (mbar)  sh (g/kg)  \\\n",
            "Date Time                                                                  \n",
            "01.01.2009 00:10:00          3.33          3.11          0.22       1.94   \n",
            "01.01.2009 00:20:00          3.23          3.02          0.21       1.89   \n",
            "01.01.2009 00:30:00          3.21          3.01          0.20       1.88   \n",
            "01.01.2009 00:40:00          3.26          3.07          0.19       1.92   \n",
            "01.01.2009 00:50:00          3.27          3.08          0.19       1.92   \n",
            "\n",
            "                     H2OC (mmol/mol)  rho (g/m**3)  wv (m/s)  max. wv (m/s)  \\\n",
            "Date Time                                                                     \n",
            "01.01.2009 00:10:00             3.12       1307.75      1.03           1.75   \n",
            "01.01.2009 00:20:00             3.03       1309.80      0.72           1.50   \n",
            "01.01.2009 00:30:00             3.02       1310.24      0.19           0.63   \n",
            "01.01.2009 00:40:00             3.08       1309.19      0.34           0.50   \n",
            "01.01.2009 00:50:00             3.09       1309.00      0.32           0.63   \n",
            "\n",
            "                     wd (deg)  \n",
            "Date Time                      \n",
            "01.01.2009 00:10:00     152.3  \n",
            "01.01.2009 00:20:00     136.1  \n",
            "01.01.2009 00:30:00     171.6  \n",
            "01.01.2009 00:40:00     198.0  \n",
            "01.01.2009 00:50:00     214.3  \n"
          ]
        }
      ]
    },
    {
      "cell_type": "code",
      "source": [
        "data = dataframe.values\n",
        "header = dataframe.columns.tolist()\n",
        "\n",
        "temperature = data[:, 1]\n",
        "print(temperature)\n",
        "print(temperature.shape)"
      ],
      "metadata": {
        "colab": {
          "base_uri": "https://localhost:8080/"
        },
        "id": "3noRiR6wY_G5",
        "outputId": "3ac05909-1e5a-478c-ca38-cce7b0a85166"
      },
      "execution_count": 5,
      "outputs": [
        {
          "output_type": "stream",
          "name": "stdout",
          "text": [
            "[-8.02 -8.41 -8.51 ... -3.16 -4.23 -4.82]\n",
            "(420451,)\n"
          ]
        }
      ]
    },
    {
      "cell_type": "code",
      "source": [
        "L = len(temperature)\n",
        "print(L)"
      ],
      "metadata": {
        "colab": {
          "base_uri": "https://localhost:8080/"
        },
        "id": "J9pzH8UKZKxC",
        "outputId": "7728481a-5370-4546-dc82-ce3b0743a2e9"
      },
      "execution_count": 6,
      "outputs": [
        {
          "output_type": "stream",
          "name": "stdout",
          "text": [
            "420451\n"
          ]
        }
      ]
    },
    {
      "cell_type": "code",
      "source": [
        "import numpy as np\n",
        "def no_encoding(seq):\n",
        "    return seq.reshape(-1, 1)  # (L, 1)\n",
        "\n",
        "def linear_encoding(seq):\n",
        "    pos = np.arange(len(seq)) / len(seq)\n",
        "    pos = pos.reshape(-1, 1)\n",
        "    return np.concatenate([seq.reshape(-1, 1), pos], axis=1)  # (L, 2)\n",
        "\n",
        "def periodic_encoding(seq, d_model=64):\n",
        "    pos = np.arange(len(seq))[:, np.newaxis]      # (L, 1)\n",
        "    j = np.arange(d_model)[np.newaxis, :]         # (1, d_model)\n",
        "    angle_rates = pos / np.power(10000, j / d_model)  # (L, d_model)\n",
        "    pos_encoding = np.zeros_like(angle_rates)\n",
        "\n",
        "    pos_encoding[:, ::2] = np.sin(angle_rates[:, ::2])\n",
        "    pos_encoding[:, 1::2] = np.cos(angle_rates[:, 1::2])\n",
        "    return np.concatenate([seq.reshape(-1, 1), pos_encoding], axis=1)  # (L, d_model+1)\n",
        "\n"
      ],
      "metadata": {
        "id": "zHqRle3fZwfX"
      },
      "execution_count": 7,
      "outputs": []
    },
    {
      "cell_type": "code",
      "source": [
        "import torch\n",
        "from torch import nn"
      ],
      "metadata": {
        "id": "pLgkGCMQc-OH"
      },
      "execution_count": 8,
      "outputs": []
    },
    {
      "cell_type": "code",
      "source": [
        "import deeplay as dl\n",
        "\n",
        "class DotProductAttention(dl.DeeplayModule):\n",
        "    \"\"\"Dot-product attention.\"\"\"\n",
        "\n",
        "    def __init__(self):\n",
        "        \"\"\"Initialize dot-product attention.\"\"\"\n",
        "        super().__init__()\n",
        "\n",
        "    def forward(self, queries, keys, values):\n",
        "        \"\"\"Calculate dot-product attention.\"\"\"\n",
        "        attn_scores = (torch.matmul(queries, keys.transpose(-2, -1))\n",
        "                       / (keys.size(-1) ** 0.5))\n",
        "        attn_matrix = torch.nn.functional.softmax(attn_scores, dim=-1)\n",
        "        attn_output = torch.matmul(attn_matrix, values)\n",
        "        return attn_output, attn_matrix\n"
      ],
      "metadata": {
        "id": "XMtEK_i8cu8c"
      },
      "execution_count": 9,
      "outputs": []
    },
    {
      "cell_type": "code",
      "source": [
        "N = 50\n",
        "import matplotlib.pyplot as plt\n",
        "seq_no = torch.from_numpy(no_encoding(temperature[:N])).unsqueeze(0).float()\n",
        "seq_linear = torch.from_numpy(linear_encoding(temperature[:N])).unsqueeze(0).float()\n",
        "seq_periodic = torch.from_numpy(periodic_encoding(temperature[:N], d_model=16)).unsqueeze(0).float()\n",
        "\n",
        "attention = DotProductAttention()\n",
        "attn_output, attn_matrix_no = attention(\n",
        "    queries=seq_no, keys=seq_no, values=seq_no,\n",
        ")\n",
        "attn_output, attn_matrix_lin = attention(\n",
        "    queries=seq_linear, keys=seq_linear, values=seq_linear,\n",
        ")\n",
        "\n",
        "attn_output, attn_matrix_per = attention(\n",
        "    queries=seq_periodic, keys=seq_periodic, values=seq_periodic,\n",
        ")\n",
        "\n"
      ],
      "metadata": {
        "id": "oPtdZNq5dB0s"
      },
      "execution_count": 46,
      "outputs": []
    },
    {
      "cell_type": "code",
      "source": [
        "import matplotlib.pyplot as plt\n",
        "import numpy as np\n",
        "\n",
        "def plot_attention(attn_matrix):\n",
        "    \"\"\"Plot attention matrix without any axis labels or ticks.\"\"\"\n",
        "    fig, ax = plt.subplots()\n",
        "    cax = ax.matshow(attn_matrix, cmap=\"Greens\")\n",
        "    fig.colorbar(cax)\n",
        "\n",
        "    ax.set_xticks([])\n",
        "    ax.set_yticks([])\n",
        "\n",
        "    plt.show()\n",
        "\n",
        "\n",
        "\n",
        "plot_attention(attn_matrix_no.squeeze(0).detach().numpy())\n",
        "plot_attention(attn_matrix_lin.squeeze(0).detach().numpy())\n",
        "plot_attention(attn_matrix_per.squeeze(0).detach().numpy())"
      ],
      "metadata": {
        "colab": {
          "base_uri": "https://localhost:8080/",
          "height": 1000
        },
        "id": "eHFFbWaAjMtX",
        "outputId": "6ec6df68-ac0e-47e4-cfc7-881edbc87637"
      },
      "execution_count": 47,
      "outputs": [
        {
          "output_type": "display_data",
          "data": {
            "text/plain": [
              "<Figure size 640x480 with 2 Axes>"
            ],
            "image/png": "[encoded data removed]"
          },
          "metadata": {}
        },
        {
          "output_type": "display_data",
          "data": {
            "text/plain": [
              "<Figure size 640x480 with 2 Axes>"
            ],
            "image/png": "[encoded data removed]"
          },
          "metadata": {}
        },
        {
          "output_type": "display_data",
          "data": {
            "text/plain": [
              "<Figure size 640x480 with 2 Axes>"
            ],
            "image/png": "[encoded data removed]"
          },
          "metadata": {}
        }
      ]
    },
    {
      "cell_type": "code",
      "source": [
        "import torch\n",
        "\n",
        "def time2vec_encoding(sequence):\n",
        "    if isinstance(sequence, np.ndarray):\n",
        "        sequence = torch.from_numpy(sequence).float()\n",
        "    else:\n",
        "        sequence = sequence.float()\n",
        "\n",
        "    d_model = 64\n",
        "    sequence = sequence.float()\n",
        "    omega = torch.randn(d_model)\n",
        "    tau = torch.randn(d_model)\n",
        "\n",
        "    linear = omega[0] * sequence + tau[0]\n",
        "    periodic = torch.sin(omega[1:].unsqueeze(0) * sequence.unsqueeze(1) + tau[1:].unsqueeze(0))\n",
        "    encoding = torch.cat([linear.unsqueeze(1), periodic], dim=1)\n",
        "    return encoding\n",
        "\n"
      ],
      "metadata": {
        "id": "_0_hr9Mcn1e0"
      },
      "execution_count": 43,
      "outputs": []
    },
    {
      "cell_type": "code",
      "source": [
        "seq_q2=time2vec_encoding(temperature[:N])\n",
        "print(seq_q2.shape)\n",
        "attention = DotProductAttention()\n",
        "attn_output, attn_matrix_q2 = attention(\n",
        "    queries=seq_q2, keys=seq_q2, values=seq_q2,\n",
        ")"
      ],
      "metadata": {
        "colab": {
          "base_uri": "https://localhost:8080/"
        },
        "id": "g8qyai6yoCpS",
        "outputId": "c73e1611-e575-48c7-8126-53dc706bb000"
      },
      "execution_count": 50,
      "outputs": [
        {
          "output_type": "stream",
          "name": "stdout",
          "text": [
            "torch.Size([50, 64])\n"
          ]
        }
      ]
    },
    {
      "cell_type": "code",
      "source": [
        "plot_attention(attn_matrix_q2.squeeze(0).detach().numpy())"
      ],
      "metadata": {
        "colab": {
          "base_uri": "https://localhost:8080/",
          "height": 406
        },
        "outputId": "ee109045-2bed-426d-a801-7e41e1de68c1",
        "id": "cXxZ3m96q8V2"
      },
      "execution_count": 51,
      "outputs": [
        {
          "output_type": "display_data",
          "data": {
            "text/plain": [
              "<Figure size 640x480 with 2 Axes>"
            ],
            "image/png": "[encoded data removed]"
          },
          "metadata": {}
        }
      ]
    },
    {
      "cell_type": "markdown",
      "source": [
        "Some time it performs similar to the one in q1, maybe due to the randomness of omega, tau"
      ],
      "metadata": {
        "id": "m7ewdo4Wr0ZI"
      }
    },
    {
      "cell_type": "markdown",
      "source": [],
      "metadata": {
        "id": "NUMbVOdlXlxS"
      }
    }
  ]
}