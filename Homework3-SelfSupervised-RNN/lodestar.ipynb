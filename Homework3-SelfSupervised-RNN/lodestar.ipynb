{
  "cells": [
    {
      "cell_type": "markdown",
      "metadata": {
        "id": "vShyoUxaNhI1"
      },
      "source": [
        "# Localizing Particles using LodeSTAR\n",
        "\n",
        "<div style=\"background-color: #f0f8ff; border: 2px solid #4682b4; padding: 10px;\">\n",
        "<a href=\"https://colab.research.google.com/github/DeepTrackAI/DeepLearningCrashCourse/blob/main/Ch06_SelfSupervised/ec06_1_lodestar/lodestar.ipynb\" target=\"_parent\"><img src=\"https://colab.research.google.com/assets/colab-badge.svg\" alt=\"Open In Colab\"/></a>\n",
        "<strong>If using Colab/Kaggle:</strong> You need to uncomment the code in the cell below this one.\n",
        "</div>"
      ]
    },
    {
      "cell_type": "code",
      "execution_count": 1,
      "metadata": {
        "colab": {
          "base_uri": "https://localhost:8080/"
        },
        "id": "yJZ7-1_pNhI5",
        "outputId": "e8cbd2e9-e63d-45c0-836c-1d550d21e12c"
      },
      "outputs": [
        {
          "output_type": "stream",
          "name": "stdout",
          "text": [
            "Collecting deeplay\n",
            "  Downloading deeplay-0.1.3-py3-none-any.whl.metadata (13 kB)\n",
            "Collecting deeptrack\n",
            "  Downloading deeptrack-2.0.1-py3-none-any.whl.metadata (21 kB)\n",
            "Requirement already satisfied: numpy in /usr/local/lib/python3.11/dist-packages (from deeplay) (2.0.2)\n",
            "Requirement already satisfied: matplotlib in /usr/local/lib/python3.11/dist-packages (from deeplay) (3.10.0)\n",
            "Requirement already satisfied: torch>2.3 in /usr/local/lib/python3.11/dist-packages (from deeplay) (2.6.0+cu124)\n",
            "Collecting lightning (from deeplay)\n",
            "  Downloading lightning-2.5.1-py3-none-any.whl.metadata (39 kB)\n",
            "Collecting torchmetrics (from deeplay)\n",
            "  Downloading torchmetrics-1.7.1-py3-none-any.whl.metadata (21 kB)\n",
            "Requirement already satisfied: torchvision in /usr/local/lib/python3.11/dist-packages (from deeplay) (0.21.0+cu124)\n",
            "Collecting torch-geometric (from deeplay)\n",
            "  Downloading torch_geometric-2.6.1-py3-none-any.whl.metadata (63 kB)\n",
            "\u001b[2K     \u001b[90m━━━━━━━━━━━━━━━━━━━━━━━━━━━━━━━━━━━━━━━━\u001b[0m \u001b[32m63.1/63.1 kB\u001b[0m \u001b[31m2.4 MB/s\u001b[0m eta \u001b[36m0:00:00\u001b[0m\n",
            "\u001b[?25hCollecting kornia (from deeplay)\n",
            "  Downloading kornia-0.8.0-py2.py3-none-any.whl.metadata (17 kB)\n",
            "Requirement already satisfied: scipy in /usr/local/lib/python3.11/dist-packages (from deeplay) (1.14.1)\n",
            "Requirement already satisfied: scikit-image in /usr/local/lib/python3.11/dist-packages (from deeplay) (0.25.2)\n",
            "Requirement already satisfied: rich in /usr/local/lib/python3.11/dist-packages (from deeplay) (13.9.4)\n",
            "Collecting dill (from deeplay)\n",
            "  Downloading dill-0.4.0-py3-none-any.whl.metadata (10 kB)\n",
            "Requirement already satisfied: more_itertools in /usr/local/lib/python3.11/dist-packages (from deeptrack) (10.6.0)\n",
            "Collecting pint (from deeptrack)\n",
            "  Downloading Pint-0.24.4-py3-none-any.whl.metadata (8.5 kB)\n",
            "Requirement already satisfied: pandas in /usr/local/lib/python3.11/dist-packages (from deeptrack) (2.2.2)\n",
            "Requirement already satisfied: tqdm in /usr/local/lib/python3.11/dist-packages (from deeptrack) (4.67.1)\n",
            "Collecting lazy_import (from deeptrack)\n",
            "  Downloading lazy_import-0.2.2.tar.gz (15 kB)\n",
            "  Preparing metadata (setup.py) ... \u001b[?25l\u001b[?25hdone\n",
            "Requirement already satisfied: gdown in /usr/local/lib/python3.11/dist-packages (from deeptrack) (5.2.0)\n",
            "Requirement already satisfied: filelock in /usr/local/lib/python3.11/dist-packages (from torch>2.3->deeplay) (3.18.0)\n",
            "Requirement already satisfied: typing-extensions>=4.10.0 in /usr/local/lib/python3.11/dist-packages (from torch>2.3->deeplay) (4.13.1)\n",
            "Requirement already satisfied: networkx in /usr/local/lib/python3.11/dist-packages (from torch>2.3->deeplay) (3.4.2)\n",
            "Requirement already satisfied: jinja2 in /usr/local/lib/python3.11/dist-packages (from torch>2.3->deeplay) (3.1.6)\n",
            "Requirement already satisfied: fsspec in /usr/local/lib/python3.11/dist-packages (from torch>2.3->deeplay) (2025.3.2)\n",
            "Collecting nvidia-cuda-nvrtc-cu12==12.4.127 (from torch>2.3->deeplay)\n",
            "  Downloading nvidia_cuda_nvrtc_cu12-12.4.127-py3-none-manylinux2014_x86_64.whl.metadata (1.5 kB)\n",
            "Collecting nvidia-cuda-runtime-cu12==12.4.127 (from torch>2.3->deeplay)\n",
            "  Downloading nvidia_cuda_runtime_cu12-12.4.127-py3-none-manylinux2014_x86_64.whl.metadata (1.5 kB)\n",
            "Collecting nvidia-cuda-cupti-cu12==12.4.127 (from torch>2.3->deeplay)\n",
            "  Downloading nvidia_cuda_cupti_cu12-12.4.127-py3-none-manylinux2014_x86_64.whl.metadata (1.6 kB)\n",
            "Collecting nvidia-cudnn-cu12==9.1.0.70 (from torch>2.3->deeplay)\n",
            "  Downloading nvidia_cudnn_cu12-9.1.0.70-py3-none-manylinux2014_x86_64.whl.metadata (1.6 kB)\n",
            "Collecting nvidia-cublas-cu12==12.4.5.8 (from torch>2.3->deeplay)\n",
            "  Downloading nvidia_cublas_cu12-12.4.5.8-py3-none-manylinux2014_x86_64.whl.metadata (1.5 kB)\n",
            "Collecting nvidia-cufft-cu12==11.2.1.3 (from torch>2.3->deeplay)\n",
            "  Downloading nvidia_cufft_cu12-11.2.1.3-py3-none-manylinux2014_x86_64.whl.metadata (1.5 kB)\n",
            "Collecting nvidia-curand-cu12==10.3.5.147 (from torch>2.3->deeplay)\n",
            "  Downloading nvidia_curand_cu12-10.3.5.147-py3-none-manylinux2014_x86_64.whl.metadata (1.5 kB)\n",
            "Collecting nvidia-cusolver-cu12==11.6.1.9 (from torch>2.3->deeplay)\n",
            "  Downloading nvidia_cusolver_cu12-11.6.1.9-py3-none-manylinux2014_x86_64.whl.metadata (1.6 kB)\n",
            "Collecting nvidia-cusparse-cu12==12.3.1.170 (from torch>2.3->deeplay)\n",
            "  Downloading nvidia_cusparse_cu12-12.3.1.170-py3-none-manylinux2014_x86_64.whl.metadata (1.6 kB)\n",
            "Requirement already satisfied: nvidia-cusparselt-cu12==0.6.2 in /usr/local/lib/python3.11/dist-packages (from torch>2.3->deeplay) (0.6.2)\n",
            "Requirement already satisfied: nvidia-nccl-cu12==2.21.5 in /usr/local/lib/python3.11/dist-packages (from torch>2.3->deeplay) (2.21.5)\n",
            "Requirement already satisfied: nvidia-nvtx-cu12==12.4.127 in /usr/local/lib/python3.11/dist-packages (from torch>2.3->deeplay) (12.4.127)\n",
            "Collecting nvidia-nvjitlink-cu12==12.4.127 (from torch>2.3->deeplay)\n",
            "  Downloading nvidia_nvjitlink_cu12-12.4.127-py3-none-manylinux2014_x86_64.whl.metadata (1.5 kB)\n",
            "Requirement already satisfied: triton==3.2.0 in /usr/local/lib/python3.11/dist-packages (from torch>2.3->deeplay) (3.2.0)\n",
            "Requirement already satisfied: sympy==1.13.1 in /usr/local/lib/python3.11/dist-packages (from torch>2.3->deeplay) (1.13.1)\n",
            "Requirement already satisfied: mpmath<1.4,>=1.1.0 in /usr/local/lib/python3.11/dist-packages (from sympy==1.13.1->torch>2.3->deeplay) (1.3.0)\n",
            "Requirement already satisfied: beautifulsoup4 in /usr/local/lib/python3.11/dist-packages (from gdown->deeptrack) (4.13.3)\n",
            "Requirement already satisfied: requests[socks] in /usr/local/lib/python3.11/dist-packages (from gdown->deeptrack) (2.32.3)\n",
            "Collecting kornia_rs>=0.1.0 (from kornia->deeplay)\n",
            "  Downloading kornia_rs-0.1.8-cp311-cp311-manylinux_2_17_x86_64.manylinux2014_x86_64.whl.metadata (10 kB)\n",
            "Requirement already satisfied: packaging in /usr/local/lib/python3.11/dist-packages (from kornia->deeplay) (24.2)\n",
            "Requirement already satisfied: six in /usr/local/lib/python3.11/dist-packages (from lazy_import->deeptrack) (1.17.0)\n",
            "Requirement already satisfied: PyYAML<8.0,>=5.4 in /usr/local/lib/python3.11/dist-packages (from lightning->deeplay) (6.0.2)\n",
            "Collecting lightning-utilities<2.0,>=0.10.0 (from lightning->deeplay)\n",
            "  Downloading lightning_utilities-0.14.3-py3-none-any.whl.metadata (5.6 kB)\n",
            "Collecting pytorch-lightning (from lightning->deeplay)\n",
            "  Downloading pytorch_lightning-2.5.1-py3-none-any.whl.metadata (20 kB)\n",
            "Requirement already satisfied: contourpy>=1.0.1 in /usr/local/lib/python3.11/dist-packages (from matplotlib->deeplay) (1.3.1)\n",
            "Requirement already satisfied: cycler>=0.10 in /usr/local/lib/python3.11/dist-packages (from matplotlib->deeplay) (0.12.1)\n",
            "Requirement already satisfied: fonttools>=4.22.0 in /usr/local/lib/python3.11/dist-packages (from matplotlib->deeplay) (4.57.0)\n",
            "Requirement already satisfied: kiwisolver>=1.3.1 in /usr/local/lib/python3.11/dist-packages (from matplotlib->deeplay) (1.4.8)\n",
            "Requirement already satisfied: pillow>=8 in /usr/local/lib/python3.11/dist-packages (from matplotlib->deeplay) (11.1.0)\n",
            "Requirement already satisfied: pyparsing>=2.3.1 in /usr/local/lib/python3.11/dist-packages (from matplotlib->deeplay) (3.2.3)\n",
            "Requirement already satisfied: python-dateutil>=2.7 in /usr/local/lib/python3.11/dist-packages (from matplotlib->deeplay) (2.8.2)\n",
            "Requirement already satisfied: pytz>=2020.1 in /usr/local/lib/python3.11/dist-packages (from pandas->deeptrack) (2025.2)\n",
            "Requirement already satisfied: tzdata>=2022.7 in /usr/local/lib/python3.11/dist-packages (from pandas->deeptrack) (2025.2)\n",
            "Requirement already satisfied: platformdirs>=2.1.0 in /usr/local/lib/python3.11/dist-packages (from pint->deeptrack) (4.3.7)\n",
            "Collecting flexcache>=0.3 (from pint->deeptrack)\n",
            "  Downloading flexcache-0.3-py3-none-any.whl.metadata (7.0 kB)\n",
            "Collecting flexparser>=0.4 (from pint->deeptrack)\n",
            "  Downloading flexparser-0.4-py3-none-any.whl.metadata (18 kB)\n",
            "Requirement already satisfied: markdown-it-py>=2.2.0 in /usr/local/lib/python3.11/dist-packages (from rich->deeplay) (3.0.0)\n",
            "Requirement already satisfied: pygments<3.0.0,>=2.13.0 in /usr/local/lib/python3.11/dist-packages (from rich->deeplay) (2.18.0)\n",
            "Requirement already satisfied: imageio!=2.35.0,>=2.33 in /usr/local/lib/python3.11/dist-packages (from scikit-image->deeplay) (2.37.0)\n",
            "Requirement already satisfied: tifffile>=2022.8.12 in /usr/local/lib/python3.11/dist-packages (from scikit-image->deeplay) (2025.3.30)\n",
            "Requirement already satisfied: lazy-loader>=0.4 in /usr/local/lib/python3.11/dist-packages (from scikit-image->deeplay) (0.4)\n",
            "Requirement already satisfied: aiohttp in /usr/local/lib/python3.11/dist-packages (from torch-geometric->deeplay) (3.11.15)\n",
            "Requirement already satisfied: psutil>=5.8.0 in /usr/local/lib/python3.11/dist-packages (from torch-geometric->deeplay) (5.9.5)\n",
            "Requirement already satisfied: aiohappyeyeballs>=2.3.0 in /usr/local/lib/python3.11/dist-packages (from aiohttp->torch-geometric->deeplay) (2.6.1)\n",
            "Requirement already satisfied: aiosignal>=1.1.2 in /usr/local/lib/python3.11/dist-packages (from aiohttp->torch-geometric->deeplay) (1.3.2)\n",
            "Requirement already satisfied: attrs>=17.3.0 in /usr/local/lib/python3.11/dist-packages (from aiohttp->torch-geometric->deeplay) (25.3.0)\n",
            "Requirement already satisfied: frozenlist>=1.1.1 in /usr/local/lib/python3.11/dist-packages (from aiohttp->torch-geometric->deeplay) (1.5.0)\n",
            "Requirement already satisfied: multidict<7.0,>=4.5 in /usr/local/lib/python3.11/dist-packages (from aiohttp->torch-geometric->deeplay) (6.4.2)\n",
            "Requirement already satisfied: propcache>=0.2.0 in /usr/local/lib/python3.11/dist-packages (from aiohttp->torch-geometric->deeplay) (0.3.1)\n",
            "Requirement already satisfied: yarl<2.0,>=1.17.0 in /usr/local/lib/python3.11/dist-packages (from aiohttp->torch-geometric->deeplay) (1.19.0)\n",
            "Requirement already satisfied: setuptools in /usr/local/lib/python3.11/dist-packages (from lightning-utilities<2.0,>=0.10.0->lightning->deeplay) (75.2.0)\n",
            "Requirement already satisfied: mdurl~=0.1 in /usr/local/lib/python3.11/dist-packages (from markdown-it-py>=2.2.0->rich->deeplay) (0.1.2)\n",
            "Requirement already satisfied: soupsieve>1.2 in /usr/local/lib/python3.11/dist-packages (from beautifulsoup4->gdown->deeptrack) (2.6)\n",
            "Requirement already satisfied: MarkupSafe>=2.0 in /usr/local/lib/python3.11/dist-packages (from jinja2->torch>2.3->deeplay) (3.0.2)\n",
            "Requirement already satisfied: charset-normalizer<4,>=2 in /usr/local/lib/python3.11/dist-packages (from requests[socks]->gdown->deeptrack) (3.4.1)\n",
            "Requirement already satisfied: idna<4,>=2.5 in /usr/local/lib/python3.11/dist-packages (from requests[socks]->gdown->deeptrack) (3.10)\n",
            "Requirement already satisfied: urllib3<3,>=1.21.1 in /usr/local/lib/python3.11/dist-packages (from requests[socks]->gdown->deeptrack) (2.3.0)\n",
            "Requirement already satisfied: certifi>=2017.4.17 in /usr/local/lib/python3.11/dist-packages (from requests[socks]->gdown->deeptrack) (2025.1.31)\n",
            "Requirement already satisfied: PySocks!=1.5.7,>=1.5.6 in /usr/local/lib/python3.11/dist-packages (from requests[socks]->gdown->deeptrack) (1.7.1)\n",
            "Downloading deeplay-0.1.3-py3-none-any.whl (177 kB)\n",
            "\u001b[2K   \u001b[90m━━━━━━━━━━━━━━━━━━━━━━━━━━━━━━━━━━━━━━━━\u001b[0m \u001b[32m177.3/177.3 kB\u001b[0m \u001b[31m2.5 MB/s\u001b[0m eta \u001b[36m0:00:00\u001b[0m\n",
            "\u001b[?25hDownloading deeptrack-2.0.1-py3-none-any.whl (195 kB)\n",
            "\u001b[2K   \u001b[90m━━━━━━━━━━━━━━━━━━━━━━━━━━━━━━━━━━━━━━━━\u001b[0m \u001b[32m195.6/195.6 kB\u001b[0m \u001b[31m8.4 MB/s\u001b[0m eta \u001b[36m0:00:00\u001b[0m\n",
            "\u001b[?25hDownloading nvidia_cublas_cu12-12.4.5.8-py3-none-manylinux2014_x86_64.whl (363.4 MB)\n",
            "\u001b[2K   \u001b[90m━━━━━━━━━━━━━━━━━━━━━━━━━━━━━━━━━━━━━━━━\u001b[0m \u001b[32m363.4/363.4 MB\u001b[0m \u001b[31m2.8 MB/s\u001b[0m eta \u001b[36m0:00:00\u001b[0m\n",
            "\u001b[?25hDownloading nvidia_cuda_cupti_cu12-12.4.127-py3-none-manylinux2014_x86_64.whl (13.8 MB)\n",
            "\u001b[2K   \u001b[90m━━━━━━━━━━━━━━━━━━━━━━━━━━━━━━━━━━━━━━━━\u001b[0m \u001b[32m13.8/13.8 MB\u001b[0m \u001b[31m44.7 MB/s\u001b[0m eta \u001b[36m0:00:00\u001b[0m\n",
            "\u001b[?25hDownloading nvidia_cuda_nvrtc_cu12-12.4.127-py3-none-manylinux2014_x86_64.whl (24.6 MB)\n",
            "\u001b[2K   \u001b[90m━━━━━━━━━━━━━━━━━━━━━━━━━━━━━━━━━━━━━━━━\u001b[0m \u001b[32m24.6/24.6 MB\u001b[0m \u001b[31m47.1 MB/s\u001b[0m eta \u001b[36m0:00:00\u001b[0m\n",
            "\u001b[?25hDownloading nvidia_cuda_runtime_cu12-12.4.127-py3-none-manylinux2014_x86_64.whl (883 kB)\n",
            "\u001b[2K   \u001b[90m━━━━━━━━━━━━━━━━━━━━━━━━━━━━━━━━━━━━━━━━\u001b[0m \u001b[32m883.7/883.7 kB\u001b[0m \u001b[31m58.5 MB/s\u001b[0m eta \u001b[36m0:00:00\u001b[0m\n",
            "\u001b[?25hDownloading nvidia_cudnn_cu12-9.1.0.70-py3-none-manylinux2014_x86_64.whl (664.8 MB)\n",
            "\u001b[2K   \u001b[90m━━━━━━━━━━━━━━━━━━━━━━━━━━━━━━━━━━━━━━━━\u001b[0m \u001b[32m664.8/664.8 MB\u001b[0m \u001b[31m1.8 MB/s\u001b[0m eta \u001b[36m0:00:00\u001b[0m\n",
            "\u001b[?25hDownloading nvidia_cufft_cu12-11.2.1.3-py3-none-manylinux2014_x86_64.whl (211.5 MB)\n",
            "\u001b[2K   \u001b[90m━━━━━━━━━━━━━━━━━━━━━━━━━━━━━━━━━━━━━━━━\u001b[0m \u001b[32m211.5/211.5 MB\u001b[0m \u001b[31m9.9 MB/s\u001b[0m eta \u001b[36m0:00:00\u001b[0m\n",
            "\u001b[?25hDownloading nvidia_curand_cu12-10.3.5.147-py3-none-manylinux2014_x86_64.whl (56.3 MB)\n",
            "\u001b[2K   \u001b[90m━━━━━━━━━━━━━━━━━━━━━━━━━━━━━━━━━━━━━━━━\u001b[0m \u001b[32m56.3/56.3 MB\u001b[0m \u001b[31m28.7 MB/s\u001b[0m eta \u001b[36m0:00:00\u001b[0m\n",
            "\u001b[?25hDownloading nvidia_cusolver_cu12-11.6.1.9-py3-none-manylinux2014_x86_64.whl (127.9 MB)\n",
            "\u001b[2K   \u001b[90m━━━━━━━━━━━━━━━━━━━━━━━━━━━━━━━━━━━━━━━━\u001b[0m \u001b[32m127.9/127.9 MB\u001b[0m \u001b[31m15.9 MB/s\u001b[0m eta \u001b[36m0:00:00\u001b[0m\n",
            "\u001b[?25hDownloading nvidia_cusparse_cu12-12.3.1.170-py3-none-manylinux2014_x86_64.whl (207.5 MB)\n",
            "\u001b[2K   \u001b[90m━━━━━━━━━━━━━━━━━━━━━━━━━━━━━━━━━━━━━━━━\u001b[0m \u001b[32m207.5/207.5 MB\u001b[0m \u001b[31m5.5 MB/s\u001b[0m eta \u001b[36m0:00:00\u001b[0m\n",
            "\u001b[?25hDownloading nvidia_nvjitlink_cu12-12.4.127-py3-none-manylinux2014_x86_64.whl (21.1 MB)\n",
            "\u001b[2K   \u001b[90m━━━━━━━━━━━━━━━━━━━━━━━━━━━━━━━━━━━━━━━━\u001b[0m \u001b[32m21.1/21.1 MB\u001b[0m \u001b[31m48.8 MB/s\u001b[0m eta \u001b[36m0:00:00\u001b[0m\n",
            "\u001b[?25hDownloading dill-0.4.0-py3-none-any.whl (119 kB)\n",
            "\u001b[2K   \u001b[90m━━━━━━━━━━━━━━━━━━━━━━━━━━━━━━━━━━━━━━━━\u001b[0m \u001b[32m119.7/119.7 kB\u001b[0m \u001b[31m10.6 MB/s\u001b[0m eta \u001b[36m0:00:00\u001b[0m\n",
            "\u001b[?25hDownloading kornia-0.8.0-py2.py3-none-any.whl (1.1 MB)\n",
            "\u001b[2K   \u001b[90m━━━━━━━━━━━━━━━━━━━━━━━━━━━━━━━━━━━━━━━━\u001b[0m \u001b[32m1.1/1.1 MB\u001b[0m \u001b[31m59.6 MB/s\u001b[0m eta \u001b[36m0:00:00\u001b[0m\n",
            "\u001b[?25hDownloading lightning-2.5.1-py3-none-any.whl (818 kB)\n",
            "\u001b[2K   \u001b[90m━━━━━━━━━━━━━━━━━━━━━━━━━━━━━━━━━━━━━━━━\u001b[0m \u001b[32m818.9/818.9 kB\u001b[0m \u001b[31m49.9 MB/s\u001b[0m eta \u001b[36m0:00:00\u001b[0m\n",
            "\u001b[?25hDownloading torchmetrics-1.7.1-py3-none-any.whl (961 kB)\n",
            "\u001b[2K   \u001b[90m━━━━━━━━━━━━━━━━━━━━━━━━━━━━━━━━━━━━━━━━\u001b[0m \u001b[32m961.5/961.5 kB\u001b[0m \u001b[31m60.5 MB/s\u001b[0m eta \u001b[36m0:00:00\u001b[0m\n",
            "\u001b[?25hDownloading Pint-0.24.4-py3-none-any.whl (302 kB)\n",
            "\u001b[2K   \u001b[90m━━━━━━━━━━━━━━━━━━━━━━━━━━━━━━━━━━━━━━━━\u001b[0m \u001b[32m302.0/302.0 kB\u001b[0m \u001b[31m26.0 MB/s\u001b[0m eta \u001b[36m0:00:00\u001b[0m\n",
            "\u001b[?25hDownloading torch_geometric-2.6.1-py3-none-any.whl (1.1 MB)\n",
            "\u001b[2K   \u001b[90m━━━━━━━━━━━━━━━━━━━━━━━━━━━━━━━━━━━━━━━━\u001b[0m \u001b[32m1.1/1.1 MB\u001b[0m \u001b[31m66.5 MB/s\u001b[0m eta \u001b[36m0:00:00\u001b[0m\n",
            "\u001b[?25hDownloading flexcache-0.3-py3-none-any.whl (13 kB)\n",
            "Downloading flexparser-0.4-py3-none-any.whl (27 kB)\n",
            "Downloading kornia_rs-0.1.8-cp311-cp311-manylinux_2_17_x86_64.manylinux2014_x86_64.whl (2.1 MB)\n",
            "\u001b[2K   \u001b[90m━━━━━━━━━━━━━━━━━━━━━━━━━━━━━━━━━━━━━━━━\u001b[0m \u001b[32m2.1/2.1 MB\u001b[0m \u001b[31m82.1 MB/s\u001b[0m eta \u001b[36m0:00:00\u001b[0m\n",
            "\u001b[?25hDownloading lightning_utilities-0.14.3-py3-none-any.whl (28 kB)\n",
            "Downloading pytorch_lightning-2.5.1-py3-none-any.whl (822 kB)\n",
            "\u001b[2K   \u001b[90m━━━━━━━━━━━━━━━━━━━━━━━━━━━━━━━━━━━━━━━━\u001b[0m \u001b[32m823.0/823.0 kB\u001b[0m \u001b[31m49.6 MB/s\u001b[0m eta \u001b[36m0:00:00\u001b[0m\n",
            "\u001b[?25hBuilding wheels for collected packages: lazy_import\n",
            "  Building wheel for lazy_import (setup.py) ... \u001b[?25l\u001b[?25hdone\n",
            "  Created wheel for lazy_import: filename=lazy_import-0.2.2-py2.py3-none-any.whl size=16496 sha256=ee00062d40a030a93969db137790cb2c1e2204438dde2abe83686951f4f160b8\n",
            "  Stored in directory: /root/.cache/pip/wheels/a4/71/2e/08ec0c8372739b0e20a7e48474312372031c5050d8c791c75f\n",
            "Successfully built lazy_import\n",
            "Installing collected packages: nvidia-nvjitlink-cu12, nvidia-curand-cu12, nvidia-cufft-cu12, nvidia-cuda-runtime-cu12, nvidia-cuda-nvrtc-cu12, nvidia-cuda-cupti-cu12, nvidia-cublas-cu12, lightning-utilities, lazy_import, kornia_rs, flexparser, flexcache, dill, pint, nvidia-cusparse-cu12, nvidia-cudnn-cu12, torch-geometric, nvidia-cusolver-cu12, deeptrack, torchmetrics, kornia, pytorch-lightning, lightning, deeplay\n",
            "  Attempting uninstall: nvidia-nvjitlink-cu12\n",
            "    Found existing installation: nvidia-nvjitlink-cu12 12.5.82\n",
            "    Uninstalling nvidia-nvjitlink-cu12-12.5.82:\n",
            "      Successfully uninstalled nvidia-nvjitlink-cu12-12.5.82\n",
            "  Attempting uninstall: nvidia-curand-cu12\n",
            "    Found existing installation: nvidia-curand-cu12 10.3.6.82\n",
            "    Uninstalling nvidia-curand-cu12-10.3.6.82:\n",
            "      Successfully uninstalled nvidia-curand-cu12-10.3.6.82\n",
            "  Attempting uninstall: nvidia-cufft-cu12\n",
            "    Found existing installation: nvidia-cufft-cu12 11.2.3.61\n",
            "    Uninstalling nvidia-cufft-cu12-11.2.3.61:\n",
            "      Successfully uninstalled nvidia-cufft-cu12-11.2.3.61\n",
            "  Attempting uninstall: nvidia-cuda-runtime-cu12\n",
            "    Found existing installation: nvidia-cuda-runtime-cu12 12.5.82\n",
            "    Uninstalling nvidia-cuda-runtime-cu12-12.5.82:\n",
            "      Successfully uninstalled nvidia-cuda-runtime-cu12-12.5.82\n",
            "  Attempting uninstall: nvidia-cuda-nvrtc-cu12\n",
            "    Found existing installation: nvidia-cuda-nvrtc-cu12 12.5.82\n",
            "    Uninstalling nvidia-cuda-nvrtc-cu12-12.5.82:\n",
            "      Successfully uninstalled nvidia-cuda-nvrtc-cu12-12.5.82\n",
            "  Attempting uninstall: nvidia-cuda-cupti-cu12\n",
            "    Found existing installation: nvidia-cuda-cupti-cu12 12.5.82\n",
            "    Uninstalling nvidia-cuda-cupti-cu12-12.5.82:\n",
            "      Successfully uninstalled nvidia-cuda-cupti-cu12-12.5.82\n",
            "  Attempting uninstall: nvidia-cublas-cu12\n",
            "    Found existing installation: nvidia-cublas-cu12 12.5.3.2\n",
            "    Uninstalling nvidia-cublas-cu12-12.5.3.2:\n",
            "      Successfully uninstalled nvidia-cublas-cu12-12.5.3.2\n",
            "  Attempting uninstall: nvidia-cusparse-cu12\n",
            "    Found existing installation: nvidia-cusparse-cu12 12.5.1.3\n",
            "    Uninstalling nvidia-cusparse-cu12-12.5.1.3:\n",
            "      Successfully uninstalled nvidia-cusparse-cu12-12.5.1.3\n",
            "  Attempting uninstall: nvidia-cudnn-cu12\n",
            "    Found existing installation: nvidia-cudnn-cu12 9.3.0.75\n",
            "    Uninstalling nvidia-cudnn-cu12-9.3.0.75:\n",
            "      Successfully uninstalled nvidia-cudnn-cu12-9.3.0.75\n",
            "  Attempting uninstall: nvidia-cusolver-cu12\n",
            "    Found existing installation: nvidia-cusolver-cu12 11.6.3.83\n",
            "    Uninstalling nvidia-cusolver-cu12-11.6.3.83:\n",
            "      Successfully uninstalled nvidia-cusolver-cu12-11.6.3.83\n",
            "Successfully installed deeplay-0.1.3 deeptrack-2.0.1 dill-0.4.0 flexcache-0.3 flexparser-0.4 kornia-0.8.0 kornia_rs-0.1.8 lazy_import-0.2.2 lightning-2.5.1 lightning-utilities-0.14.3 nvidia-cublas-cu12-12.4.5.8 nvidia-cuda-cupti-cu12-12.4.127 nvidia-cuda-nvrtc-cu12-12.4.127 nvidia-cuda-runtime-cu12-12.4.127 nvidia-cudnn-cu12-9.1.0.70 nvidia-cufft-cu12-11.2.1.3 nvidia-curand-cu12-10.3.5.147 nvidia-cusolver-cu12-11.6.1.9 nvidia-cusparse-cu12-12.3.1.170 nvidia-nvjitlink-cu12-12.4.127 pint-0.24.4 pytorch-lightning-2.5.1 torch-geometric-2.6.1 torchmetrics-1.7.1\n"
          ]
        }
      ],
      "source": [
        "!pip install deeplay deeptrack  # Uncomment if using Colab/Kaggle."
      ]
    },
    {
      "cell_type": "markdown",
      "metadata": {
        "id": "ibMfjlO5NhI6"
      },
      "source": [
        "This notebook provides you with a complete code example that demonstrates how to train and use LodeSTAR to localize particles."
      ]
    },
    {
      "cell_type": "markdown",
      "metadata": {
        "id": "CwdmotbwNhI6"
      },
      "source": [
        "<div style=\"background-color: #f0f8ff; border: 2px solid #4682b4; padding: 10px;\">\n",
        "<strong>Note:</strong> This notebook contains the Code Example 6-1 from the book  \n",
        "\n",
        "**Deep Learning Crash Course**  \n",
        "Benjamin Midtvedt, Jesús Pineda, Henrik Klein Moberg, Harshith Bachimanchi, Joana B. Pereira, Carlo Manzo, Giovanni Volpe  \n",
        "No Starch Press, San Francisco (CA), 2025  \n",
        "ISBN-13: 9781718503922  \n",
        "\n",
        "[https://nostarch.com/deep-learning-crash-course](https://nostarch.com/deep-learning-crash-course)\n",
        "\n",
        "You can find the other notebooks on the [Deep Learning Crash Course GitHub page](https://github.com/DeepTrackAI/DeepLearningCrashCourse).\n",
        "</div>"
      ]
    },
    {
      "cell_type": "markdown",
      "metadata": {
        "id": "6ezelfyoNhI7"
      },
      "source": [
        "## Creating the Dataset\n",
        "\n",
        "Define a particle located near the center of the image ..."
      ]
    },
    {
      "cell_type": "code",
      "execution_count": 2,
      "metadata": {
        "colab": {
          "base_uri": "https://localhost:8080/"
        },
        "id": "ah_LWgxnNhI7",
        "outputId": "1ffd7a61-0e16-4d45-f275-1af34dbc934a"
      },
      "outputs": [
        {
          "output_type": "stream",
          "name": "stderr",
          "text": [
            "/usr/local/lib/python3.11/dist-packages/deeptrack/__init__.py:14: UserWarning: TensorFlow is detected in your environment. DeepTrack2 version 2.0++ no longer supports TensorFlow. If you need TensorFlow support, please install the legacy version 1.7 of DeepTrack2:\n",
            "\n",
            "    pip install deeptrack==1.7\n",
            "\n",
            "For more details, refer to the DeepTrack documentation.\n",
            "  warnings.warn(\n",
            "WARNING:pint.util:Redefining '[magnetic_flux]' (<class 'pint.delegates.txt_defparser.plain.DerivedDimensionDefinition'>)\n"
          ]
        }
      ],
      "source": [
        "import deeptrack as dt\n",
        "from numpy.random import uniform\n",
        "\n",
        "image_size = 51\n",
        "\n",
        "particle = dt.PointParticle(\n",
        "    position=lambda: uniform(image_size / 2 - 5, image_size / 2 + 5, size=2),\n",
        ")"
      ]
    },
    {
      "cell_type": "markdown",
      "metadata": {
        "id": "zMRj-AFPNhI8"
      },
      "source": [
        "... define the optical system as a fluorescence microscope ..."
      ]
    },
    {
      "cell_type": "code",
      "execution_count": 3,
      "metadata": {
        "id": "zEJAMT69NhI8"
      },
      "outputs": [],
      "source": [
        "optics = dt.Fluorescence(output_region=(0, 0, image_size, image_size))"
      ]
    },
    {
      "cell_type": "markdown",
      "metadata": {
        "id": "TgRLRD-KNhI9"
      },
      "source": [
        "... create the  simulation pipeline ..."
      ]
    },
    {
      "cell_type": "code",
      "execution_count": 4,
      "metadata": {
        "id": "c8ygTlDcNhI9"
      },
      "outputs": [],
      "source": [
        "import torch\n",
        "\n",
        "simulation = (optics(particle) >> dt.NormalizeMinMax()\n",
        "              >> dt.Gaussian(sigma=0.1) >> dt.MoveAxis(-1, 0)\n",
        "              >> dt.pytorch.ToTensor(dtype=torch.float32))"
      ]
    },
    {
      "cell_type": "markdown",
      "metadata": {
        "id": "29KYEsOvNhI9"
      },
      "source": [
        "... create the train and test datasets ..."
      ]
    },
    {
      "cell_type": "code",
      "execution_count": 5,
      "metadata": {
        "id": "IzWVzJCONhI9"
      },
      "outputs": [],
      "source": [
        "train_dataset = dt.pytorch.Dataset(simulation, length=100)\n",
        "test_dataset = dt.pytorch.Dataset(simulation & particle.position, length=5000)"
      ]
    },
    {
      "cell_type": "markdown",
      "metadata": {
        "id": "5KueTpGBNhI-"
      },
      "source": [
        "... and plot some generated particles and their position."
      ]
    },
    {
      "cell_type": "code",
      "execution_count": 6,
      "metadata": {
        "colab": {
          "base_uri": "https://localhost:8080/",
          "height": 169
        },
        "id": "TLZ9-oxTNhI-",
        "outputId": "7c403fc0-59bc-424c-f916-a664d8750702"
      },
      "outputs": [
        {
          "output_type": "display_data",
          "data": {
            "text/plain": [
              "<Figure size 1000x200 with 5 Axes>"
            ],
            "image/png": "[encoded data removed]"
          },
          "metadata": {}
        }
      ],
      "source": [
        "import matplotlib.pyplot as plt\n",
        "\n",
        "fig, axs = plt.subplots(1, 5, figsize=(10, 2))\n",
        "for i, ax in enumerate(axs):\n",
        "    image, position = test_dataset[i]\n",
        "    ax.imshow(image[0], cmap=\"gray\", origin=\"lower\")\n",
        "    ax.scatter(position[1], position[0], c=\"r\")\n",
        "    if i != 0: ax.axis(\"off\")\n",
        "plt.tight_layout()\n",
        "plt.show()"
      ]
    },
    {
      "cell_type": "markdown",
      "metadata": {
        "id": "7f3YY4HtNhI_"
      },
      "source": [
        "## Learning from Translations\n",
        "\n",
        "Implement a neural network with a convolutional backbone and a dense top layer ..."
      ]
    },
    {
      "cell_type": "code",
      "execution_count": 7,
      "metadata": {
        "id": "zoH4p03cNhI_"
      },
      "outputs": [],
      "source": [
        "import deeplay as dl\n",
        "\n",
        "lodestar = dl.LodeSTAR(optimizer=dl.Adam(lr=1e-4)).build()\n",
        "model = dl.Sequential(lodestar, torch.nn.Flatten(), torch.nn.LazyLinear(2))"
      ]
    },
    {
      "cell_type": "markdown",
      "metadata": {
        "id": "U0_kltdfNhI_"
      },
      "source": [
        "... implement a function to translate the input image ..."
      ]
    },
    {
      "cell_type": "code",
      "execution_count": 8,
      "metadata": {
        "id": "jwSp12cHNhI_"
      },
      "outputs": [],
      "source": [
        "from kornia.geometry.transform import translate\n",
        "\n",
        "def image_translation(batch, translation):\n",
        "    \"\"\"Translate a batch of images.\"\"\"\n",
        "    xy_flipped_translation = translation[:, [1, 0]]\n",
        "    return translate(batch, xy_flipped_translation, padding_mode=\"reflection\")"
      ]
    },
    {
      "cell_type": "markdown",
      "metadata": {
        "id": "FYg0_35YNhI_"
      },
      "source": [
        "... a function to translate back the output positions ..."
      ]
    },
    {
      "cell_type": "code",
      "execution_count": 9,
      "metadata": {
        "id": "vGgI86BgNhJA"
      },
      "outputs": [],
      "source": [
        "def inverse_translation(preds, applied_translation):\n",
        "    \"\"\"Invert translation of predicted positions.\"\"\"\n",
        "    return preds - applied_translation"
      ]
    },
    {
      "cell_type": "markdown",
      "metadata": {
        "id": "9boU-ZOFNhJA"
      },
      "source": [
        "... and a class to implement a self-supervised particle localizer trained with translations ..."
      ]
    },
    {
      "cell_type": "code",
      "execution_count": 10,
      "metadata": {
        "id": "a1LYbuvrNhJA"
      },
      "outputs": [],
      "source": [
        "from torch import rand\n",
        "\n",
        "class ParticleLocalizer(dl.Application):\n",
        "    \"\"\"LodeSTAR implementation with translations.\"\"\"\n",
        "\n",
        "    def __init__(self, model, n_transforms=8, **kwargs):\n",
        "        \"\"\"Initialize the ParticleLocalizer.\"\"\"\n",
        "        self.model, self.n_transforms = model, n_transforms\n",
        "        super().__init__(**kwargs)\n",
        "\n",
        "    def forward(self, batch):\n",
        "        \"\"\"Forward pass through the model.\"\"\"\n",
        "        return self.model(batch)\n",
        "\n",
        "    def random_arguments(self):\n",
        "        \"\"\"Generate random arguments for transformations.\"\"\"\n",
        "        return {\"translation\": \\\n",
        "            (rand(self.n_transforms, 2).float().to(self.device) * 5 - 2.5)}\n",
        "\n",
        "    def forward_transform(self, batch, translation):\n",
        "        \"\"\"Apply forward translation to the image.\"\"\"\n",
        "        return image_translation(batch, translation)\n",
        "\n",
        "    def inverse_transform(self, preds, translation):\n",
        "        \"\"\"Apply inverse translation to the predictions.\"\"\"\n",
        "        return inverse_translation(preds, translation)\n",
        "\n",
        "    def training_step(self, image, batch_idx):\n",
        "        \"\"\"Perform a single training step.\"\"\"\n",
        "        image, *_ = image\n",
        "        batch = image.repeat(self.n_transforms, 1, 1, 1)\n",
        "\n",
        "        kwargs = self.random_arguments()\n",
        "        transformed_batch = self.forward_transform(batch, **kwargs)\n",
        "\n",
        "        pred_position = self(transformed_batch)\n",
        "        pred_position = self.inverse_transform(pred_position, **kwargs)\n",
        "\n",
        "        average_pred_position = pred_position \\\n",
        "            .mean(dim=0, keepdim=True).repeat(self.n_transforms, 1)\n",
        "        loss = self.loss(pred_position, average_pred_position)\n",
        "        self.log(\"loss\", loss, on_step=True, on_epoch=True, prog_bar=True)\n",
        "        return loss"
      ]
    },
    {
      "cell_type": "markdown",
      "metadata": {
        "id": "JTvxung0NhJA"
      },
      "source": [
        "... intantiate this class ..."
      ]
    },
    {
      "cell_type": "code",
      "execution_count": 11,
      "metadata": {
        "id": "C74wbBUpNhJA"
      },
      "outputs": [],
      "source": [
        "localizer = ParticleLocalizer(\n",
        "    model, n_transforms=8, loss=torch.nn.L1Loss(), optimizer=dl.Adam(lr=5e-4),\n",
        ").create()"
      ]
    },
    {
      "cell_type": "markdown",
      "metadata": {
        "id": "Yj3J1GfcNhJA"
      },
      "source": [
        "... and train the self-supervised particle localizer trained with translations."
      ]
    },
    {
      "cell_type": "code",
      "execution_count": 12,
      "metadata": {
        "colab": {
          "base_uri": "https://localhost:8080/",
          "height": 695,
          "referenced_widgets": [
            "93529fcda957474d82f49dc330006953",
            "c56b38e1d5ba4257aaa37540a36719d9",
            "d5d846952e324176ab5cce816bf425ec",
            "51fe6e19c0c04e74993a016dcf66fcc7",
            "931d087368c3467ebeac6667a97af1f8",
            "a5cfa65b9d594aa3ad28285255c1fa74",
            "559f6759896c43e4a6285a59613f3f48",
            "1d2e81daaaa94bc8bb32a55b28145328",
            "7e56062d3d6e4ff89516c7d13f32eed8",
            "7d84e8eaecf3487392ad9f24b5fce4a4",
            "987a6d412bd94b8e868338bb48390335"
          ]
        },
        "id": "SJFYf-xTNhJA",
        "outputId": "e5286c9e-2d5e-4488-ca3e-fe9f8d522587"
      },
      "outputs": [
        {
          "output_type": "stream",
          "name": "stderr",
          "text": [
            "/usr/local/lib/python3.11/dist-packages/lightning/pytorch/trainer/configuration_validator.py:70: You defined a `validation_step` but have no `val_dataloader`. Skipping val loop.\n",
            "/usr/local/lib/python3.11/dist-packages/lightning/pytorch/utilities/model_summary/model_summary.py:477: The total number of parameters detected may be inaccurate because the model contains an instance of `UninitializedParameter`. To get an accurate number, set `self.example_input_array` in your LightningModule.\n",
            "INFO: \n",
            "  | Name          | Type             | Params | Mode \n",
            "-----------------------------------------------------------\n",
            "0 | model         | Sequential       | 251 K  | train\n",
            "1 | loss          | L1Loss           | 0      | train\n",
            "2 | train_metrics | MetricCollection | 0      | train\n",
            "3 | val_metrics   | MetricCollection | 0      | train\n",
            "4 | test_metrics  | MetricCollection | 0      | train\n",
            "5 | optimizer     | Adam             | 0      | train\n",
            "-----------------------------------------------------------\n",
            "251 K     Trainable params\n",
            "0         Non-trainable params\n",
            "251 K     Total params\n",
            "1.004     Total estimated model params size (MB)\n",
            "48        Modules in train mode\n",
            "0         Modules in eval mode\n",
            "INFO:lightning.pytorch.callbacks.model_summary:\n",
            "  | Name          | Type             | Params | Mode \n",
            "-----------------------------------------------------------\n",
            "0 | model         | Sequential       | 251 K  | train\n",
            "1 | loss          | L1Loss           | 0      | train\n",
            "2 | train_metrics | MetricCollection | 0      | train\n",
            "3 | val_metrics   | MetricCollection | 0      | train\n",
            "4 | test_metrics  | MetricCollection | 0      | train\n",
            "5 | optimizer     | Adam             | 0      | train\n",
            "-----------------------------------------------------------\n",
            "251 K     Trainable params\n",
            "0         Non-trainable params\n",
            "251 K     Total params\n",
            "1.004     Total estimated model params size (MB)\n",
            "48        Modules in train mode\n",
            "0         Modules in eval mode\n",
            "/usr/local/lib/python3.11/dist-packages/lightning/pytorch/trainer/connectors/data_connector.py:425: The 'train_dataloader' does not have many workers which may be a bottleneck. Consider increasing the value of the `num_workers` argument` to `num_workers=11` in the `DataLoader` to improve performance.\n"
          ]
        },
        {
          "output_type": "display_data",
          "data": {
            "text/plain": [
              "Training: |          | 0/? [00:00<?, ?it/s]"
            ],
            "application/vnd.jupyter.widget-view+json": {
              "version_major": 2,
              "version_minor": 0,
              "model_id": "93529fcda957474d82f49dc330006953"
            }
          },
          "metadata": {}
        }
      ],
      "source": [
        "dataloader = dl.DataLoader(train_dataset, batch_size=1, shuffle=True)\n",
        "trainer = dl.Trainer(max_epochs=100)\n",
        "trainer.fit(localizer, dataloader)"
      ]
    },
    {
      "cell_type": "markdown",
      "metadata": {
        "id": "lyRhPPr0NhJA"
      },
      "source": [
        "### Evaluating the Performance\n",
        "\n",
        "Evaluate the performance of the self-supervised particle localizer trained with translations ..."
      ]
    },
    {
      "cell_type": "code",
      "execution_count": 13,
      "metadata": {
        "id": "Kge-HLzENhJB"
      },
      "outputs": [],
      "source": [
        "images, positions = zip(*test_dataset)\n",
        "images, positions = torch.stack(images), torch.stack(positions)\n",
        "\n",
        "predictions = localizer(images).detach().numpy()"
      ]
    },
    {
      "cell_type": "markdown",
      "metadata": {
        "id": "KOHMQdM1NhJB"
      },
      "source": [
        "... implement a function to plot the predicted positions versus the real ones ..."
      ]
    },
    {
      "cell_type": "code",
      "execution_count": 14,
      "metadata": {
        "id": "mRN2JGtiNhJB"
      },
      "outputs": [],
      "source": [
        "def plot_position_comparison(positions, predictions):\n",
        "    \"\"\"Plot comparison between predicted and real particle positions.\"\"\"\n",
        "    plt.figure(figsize=(14, 8))\n",
        "    grid = plt.GridSpec(4, 7, wspace=.2, hspace=.1)\n",
        "\n",
        "    plt.subplot(grid[1:, :3])\n",
        "    plt.scatter(positions[:, 0], predictions[:, 0], alpha=.5)\n",
        "    plt.axline((25, 25), slope=1, color=\"black\")\n",
        "    plt.xlabel(\"True Horizontal Position\", fontsize=20)\n",
        "    plt.ylabel(\"Predicted Horizontal Position\", fontsize=20)\n",
        "    plt.axis(\"equal\")\n",
        "\n",
        "    plt.subplot(grid[1:, 4:])\n",
        "    plt.scatter(positions[:, 1], predictions[:, 1], alpha=.5)\n",
        "    plt.axline((25, 25), slope=1, color=\"black\")\n",
        "    plt.xlabel(\"True Vertical Position\", fontsize=20)\n",
        "    plt.ylabel(\"Predicted Vertical Position\", fontsize=20)\n",
        "    plt.axis(\"equal\")\n",
        "\n",
        "    plt.show()"
      ]
    },
    {
      "cell_type": "markdown",
      "metadata": {
        "id": "B8lLMYJRNhJB"
      },
      "source": [
        "... and use it to plot the predicted versus real positions."
      ]
    },
    {
      "cell_type": "markdown",
      "metadata": {
        "id": "x30B-f-XNhJB"
      },
      "source": [
        "## Improving the Predictions Averaging Reflected Images\n",
        "\n",
        "Correct the bias of a self-supervised particle localizer trained with translations."
      ]
    },
    {
      "cell_type": "code",
      "execution_count": 16,
      "metadata": {
        "colab": {
          "base_uri": "https://localhost:8080/",
          "height": 356
        },
        "id": "-1BVtsemNhJB",
        "outputId": "72054cfa-7cf4-4d77-80aa-6513bc8e36b7"
      },
      "outputs": [
        {
          "output_type": "display_data",
          "data": {
            "text/plain": [
              "<Figure size 1400x800 with 2 Axes>"
            ],
            "image/png": "[encoded data removed]"
          },
          "metadata": {}
        }
      ],
      "source": [
        "direct_preds = localizer(images).detach().numpy()\n",
        "\n",
        "flipped_images = images.flip(dims=(2, 3))\n",
        "flipped_preds = localizer(flipped_images).detach().numpy()\n",
        "\n",
        "predictions_with_difference = ((direct_preds - flipped_preds) / 2\n",
        "                               + image_size / 2 - 0.5)\n",
        "\n",
        "plot_position_comparison(positions, predictions_with_difference)"
      ]
    },
    {
      "cell_type": "markdown",
      "metadata": {
        "id": "TaUBLLolNhJC"
      },
      "source": [
        "## Learning from Reflections\n",
        "\n",
        "Implement a function to conditionally reflect images along a specified dimension ..."
      ]
    },
    {
      "cell_type": "code",
      "execution_count": 17,
      "metadata": {
        "id": "zaSxxuOQNhJC"
      },
      "outputs": [],
      "source": [
        "def flip_transform(batch, should_flip, dim):\n",
        "    \"\"\"Conditionally flip batch along a specified dimension.\"\"\"\n",
        "    should_flip = should_flip.view(-1, 1, 1, 1)\n",
        "    return torch.where(should_flip, batch.flip(dims=(dim,)), batch)"
      ]
    },
    {
      "cell_type": "markdown",
      "metadata": {
        "id": "mcKH85lvNhJC"
      },
      "source": [
        "... a function to conditionally inverse flip images ..."
      ]
    },
    {
      "cell_type": "code",
      "execution_count": 18,
      "metadata": {
        "id": "FBsRV8F6NhJC"
      },
      "outputs": [],
      "source": [
        "def inverse_flip_transform(preds, should_flip, dim):\n",
        "    \"\"\"Conditionally inverse flip transformation based on should flip.\"\"\"\n",
        "    should_flip_mask = torch.zeros_like(preds).bool()\n",
        "    should_flip_mask[should_flip, dim] = 1\n",
        "    return torch.where(should_flip_mask, -preds, preds)"
      ]
    },
    {
      "cell_type": "markdown",
      "metadata": {
        "id": "G0MleXTdNhJC"
      },
      "source": [
        "... and a class to implement a self-supervised particle localizer trained also with reflections (flips) ..."
      ]
    },
    {
      "cell_type": "code",
      "execution_count": 19,
      "metadata": {
        "id": "4AaHziMnNhJO"
      },
      "outputs": [],
      "source": [
        "class ParticleLocalizerWithFlips(ParticleLocalizer):\n",
        "    \"\"\"ParticleLocalizer with additional flips.\"\"\"\n",
        "\n",
        "    def forward_transform(self, batch, translation, flip_x, flip_y):\n",
        "        \"\"\"Apply forward translations and flips to the batch.\"\"\"\n",
        "        batch = image_translation(batch, translation)\n",
        "        batch = flip_transform(batch, flip_x, dim=3)\n",
        "        batch = flip_transform(batch, flip_y, dim=2)\n",
        "        return batch\n",
        "\n",
        "    def inverse_transform(self, preds, translation, flip_x, flip_y):\n",
        "        \"\"\"Apply the inverse transformation to the predictions.\"\"\"\n",
        "        preds = inverse_flip_transform(preds, flip_x, dim=1)\n",
        "        preds = inverse_flip_transform(preds, flip_y, dim=0)\n",
        "        preds = inverse_translation(preds, translation)\n",
        "        return preds\n",
        "\n",
        "    def random_arguments(self):\n",
        "        \"\"\"Generate random arguments for translations and flips.\"\"\"\n",
        "        return {\"translation\": \\\n",
        "            (rand(self.n_transforms, 2).float().to(self.device) * 5 - 2.5),\n",
        "            \"flip_x\": rand(self.n_transforms).float().to(self.device) > 0.5,\n",
        "            \"flip_y\": rand(self.n_transforms).float().to(self.device) > 0.5}"
      ]
    },
    {
      "cell_type": "markdown",
      "metadata": {
        "id": "KIZoIPObNhJP"
      },
      "source": [
        "... train a self-supervised particle localizer with flipping transformations ..."
      ]
    },
    {
      "cell_type": "code",
      "execution_count": 20,
      "metadata": {
        "colab": {
          "base_uri": "https://localhost:8080/",
          "height": 677,
          "referenced_widgets": [
            "fd02e3f09e22456c994a11bdfdcbb4c6",
            "c052a33f970c43e9b2fc43bf5323ec6b",
            "e5a41daedad84e6f8771ded024af6a06",
            "596186e6f1a748cca8b3a17a5ea77924",
            "9939cf35e82e4e5c805a3177860d37ce",
            "bc1bac351e1c464b90ef74c9bfd57cfb",
            "4b6bc48cfe7642c79ebe53d2c75e3a98",
            "dc8d6c77dc9f4dc0ac39d8c3bfca44b8",
            "8e4886951559462cbabc6547e4bc37f3",
            "6ab8b47b83344f9a918802cd05ea4904",
            "d12873e9faca4894b1b563d60176d181"
          ]
        },
        "id": "kqmYWI8PNhJP",
        "outputId": "56f6e713-2a9e-4a76-a1d9-8fb2320192ea"
      },
      "outputs": [
        {
          "output_type": "stream",
          "name": "stderr",
          "text": [
            "/usr/local/lib/python3.11/dist-packages/lightning/pytorch/trainer/configuration_validator.py:70: You defined a `validation_step` but have no `val_dataloader`. Skipping val loop.\n",
            "INFO: \n",
            "  | Name          | Type             | Params | Mode \n",
            "-----------------------------------------------------------\n",
            "0 | model         | Sequential       | 251 K  | train\n",
            "1 | loss          | L1Loss           | 0      | train\n",
            "2 | train_metrics | MetricCollection | 0      | train\n",
            "3 | val_metrics   | MetricCollection | 0      | train\n",
            "4 | test_metrics  | MetricCollection | 0      | train\n",
            "5 | optimizer     | Adam             | 0      | train\n",
            "-----------------------------------------------------------\n",
            "251 K     Trainable params\n",
            "0         Non-trainable params\n",
            "251 K     Total params\n",
            "1.004     Total estimated model params size (MB)\n",
            "48        Modules in train mode\n",
            "0         Modules in eval mode\n",
            "INFO:lightning.pytorch.callbacks.model_summary:\n",
            "  | Name          | Type             | Params | Mode \n",
            "-----------------------------------------------------------\n",
            "0 | model         | Sequential       | 251 K  | train\n",
            "1 | loss          | L1Loss           | 0      | train\n",
            "2 | train_metrics | MetricCollection | 0      | train\n",
            "3 | val_metrics   | MetricCollection | 0      | train\n",
            "4 | test_metrics  | MetricCollection | 0      | train\n",
            "5 | optimizer     | Adam             | 0      | train\n",
            "-----------------------------------------------------------\n",
            "251 K     Trainable params\n",
            "0         Non-trainable params\n",
            "251 K     Total params\n",
            "1.004     Total estimated model params size (MB)\n",
            "48        Modules in train mode\n",
            "0         Modules in eval mode\n",
            "/usr/local/lib/python3.11/dist-packages/lightning/pytorch/trainer/connectors/data_connector.py:425: The 'train_dataloader' does not have many workers which may be a bottleneck. Consider increasing the value of the `num_workers` argument` to `num_workers=11` in the `DataLoader` to improve performance.\n"
          ]
        },
        {
          "output_type": "display_data",
          "data": {
            "text/plain": [
              "Training: |          | 0/? [00:00<?, ?it/s]"
            ],
            "application/vnd.jupyter.widget-view+json": {
              "version_major": 2,
              "version_minor": 0,
              "model_id": "fd02e3f09e22456c994a11bdfdcbb4c6"
            }
          },
          "metadata": {}
        }
      ],
      "source": [
        "\n",
        "localizer_with_flips = ParticleLocalizerWithFlips(\n",
        "    model, n_transforms=8, loss=torch.nn.L1Loss(), optimizer=dl.Adam(lr=1e-3),\n",
        ").create()\n",
        "\n",
        "trainer_with_flips = dl.Trainer(max_epochs=100)\n",
        "trainer_with_flips.fit(localizer_with_flips, dataloader)"
      ]
    },
    {
      "cell_type": "markdown",
      "metadata": {
        "id": "xdqrgM0zNhJP"
      },
      "source": [
        "... and plot the predictions versus real positions for a self-supervised particle localizer with reflections."
      ]
    },
    {
      "cell_type": "code",
      "execution_count": 21,
      "metadata": {
        "colab": {
          "base_uri": "https://localhost:8080/",
          "height": 355
        },
        "id": "QwWSxW4-NhJP",
        "outputId": "9fa62679-8423-4540-d22a-4e71c0c289bd"
      },
      "outputs": [
        {
          "output_type": "display_data",
          "data": {
            "text/plain": [
              "<Figure size 1400x800 with 2 Axes>"
            ],
            "image/png": "[encoded data removed]"
          },
          "metadata": {}
        }
      ],
      "source": [
        "predictions = (localizer_with_flips(images).detach().numpy()\n",
        "               + image_size / 2 - 0.5)\n",
        "\n",
        "plot_position_comparison(positions, predictions)"
      ]
    },
    {
      "cell_type": "markdown",
      "source": [
        "Rotation"
      ],
      "metadata": {
        "id": "nO2OgBaOdiSV"
      }
    },
    {
      "cell_type": "code",
      "execution_count": 22,
      "metadata": {
        "id": "cELa2RhqdgmS"
      },
      "outputs": [],
      "source": [
        "import torch\n",
        "\n",
        "def rotate_transform(batch, angles, center=None):\n",
        "    \"\"\"Rotate each image in the batch by its specified angle around the given center.\"\"\"\n",
        "\n",
        "    batch_size, channels, height, width = size_tuple = tuple(batch.size())\n",
        "    if center is None:\n",
        "        center = (height // 2, width // 2)\n",
        "\n",
        "    rotated_batch = torch.empty_like(batch)\n",
        "\n",
        "    for i in range(batch_size):\n",
        "        angle_rad = angles[i] * torch.pi / 180\n",
        "        rotation_matrix = torch.tensor([\n",
        "            [torch.cos(angle_rad), -torch.sin(angle_rad), 0],\n",
        "            [torch.sin(angle_rad), torch.cos(angle_rad), 0]\n",
        "        ], device=batch.device, dtype=torch.float32)\n",
        "\n",
        "        grid = torch.nn.functional.affine_grid(\n",
        "            rotation_matrix.unsqueeze(0), batch[i:i+1].size(), align_corners=False\n",
        "        )\n",
        "\n",
        "        rotated_batch[i:i+1] = torch.nn.functional.grid_sample(batch[i:i+1], grid, align_corners=False)\n",
        "    return rotated_batch\n"
      ]
    },
    {
      "cell_type": "code",
      "execution_count": 23,
      "metadata": {
        "id": "J8owzS62dgmU"
      },
      "outputs": [],
      "source": [
        "def inverse_rotate_transform(preds, angles, center=None):\n",
        "    \"\"\"Inverse rotate transformation for each (x, y) coordinate in the batch.\"\"\"\n",
        "\n",
        "    batch_size = preds.size(0)\n",
        "    rotated_preds = torch.empty_like(preds)\n",
        "\n",
        "    for i in range(batch_size):\n",
        "        # Convert angle to radians and negate it for inverse rotation\n",
        "        angle_rad = angles[i] * torch.pi / 180\n",
        "\n",
        "        # Define the rotation matrix for inverse rotation\n",
        "        rotation_matrix = torch.tensor([\n",
        "            [torch.cos(angle_rad), torch.sin(angle_rad)],\n",
        "            [-torch.sin(angle_rad), torch.cos(angle_rad)]\n",
        "        ], device=preds.device, dtype=preds.dtype)\n",
        "\n",
        "        # If a center is provided, translate coordinates to origin\n",
        "        if center is not None:\n",
        "            preds[i] = preds[i] - center\n",
        "\n",
        "        # Apply the rotation matrix to the (x, y) pair\n",
        "        rotated_preds[i] = preds[i] @ rotation_matrix.T\n",
        "\n",
        "        # Translate back if a center was provided\n",
        "        if center is not None:\n",
        "            rotated_preds[i] = rotated_preds[i] + center\n",
        "\n",
        "    return rotated_preds"
      ]
    },
    {
      "cell_type": "code",
      "execution_count": 24,
      "metadata": {
        "id": "zjYSyyBMdgmU"
      },
      "outputs": [],
      "source": [
        "class ParticleLocalizerWithRotation(ParticleLocalizer):\n",
        "    \"\"\"ParticleLocalizer with additional flips.\"\"\"\n",
        "\n",
        "    def forward_transform(self, batch, translation, rotation_angle):\n",
        "        \"\"\"Apply forward translations and rotations to the batch.\"\"\"\n",
        "        batch = image_translation(batch, translation)\n",
        "        batch = rotate_transform(batch, rotation_angle)\n",
        "        return batch\n",
        "\n",
        "    def inverse_transform(self, preds, translation, rotation_angle):\n",
        "        \"\"\"Apply the inverse transformation to the predictions.\"\"\"\n",
        "        preds = inverse_rotate_transform(preds, rotation_angle)\n",
        "        preds = inverse_translation(preds, translation)\n",
        "        return preds\n",
        "\n",
        "\n",
        "    def random_arguments(self):\n",
        "        \"\"\"Generate random arguments for translations and flips.\"\"\"\n",
        "        return {\n",
        "            \"translation\": (torch.rand(self.n_transforms, 2).float().to(self.device) * 5 - 2.5),\n",
        "            \"rotation_angle\": torch.rand(self.n_transforms).float().to(self.device) * 360\n",
        "        }"
      ]
    },
    {
      "cell_type": "code",
      "execution_count": 25,
      "metadata": {
        "colab": {
          "base_uri": "https://localhost:8080/",
          "height": 677,
          "referenced_widgets": [
            "816f9db562144b58b29115d08ba4bf91",
            "0cc8122366b74e7a8b50db1ef1a38c7d",
            "89fc4b69afd14311b891a788ffbee746",
            "0362922daf104e579927fb4d6b829de6",
            "84128b7f36294540a62d4b30ad291412",
            "577310d270674eb18715df20606d0a11",
            "cdf66ee8269e4733b44b4072165fc3b5",
            "0c742a56fcc34d28805fc92ba9392388",
            "b5e73573a59344f29b28d5735359d7ae",
            "69672fa7a3b94caf9ac7c05ab685d513",
            "f5071798ffde4ef7a9e5f11da9f2e9b6"
          ]
        },
        "outputId": "45f5fd88-a934-4b68-f530-b2fbdd46519b",
        "id": "gOGZ_o9gdgmU"
      },
      "outputs": [
        {
          "output_type": "stream",
          "name": "stderr",
          "text": [
            "/usr/local/lib/python3.11/dist-packages/lightning/pytorch/trainer/configuration_validator.py:70: You defined a `validation_step` but have no `val_dataloader`. Skipping val loop.\n",
            "INFO: \n",
            "  | Name          | Type             | Params | Mode \n",
            "-----------------------------------------------------------\n",
            "0 | model         | Sequential       | 251 K  | train\n",
            "1 | loss          | L1Loss           | 0      | train\n",
            "2 | train_metrics | MetricCollection | 0      | train\n",
            "3 | val_metrics   | MetricCollection | 0      | train\n",
            "4 | test_metrics  | MetricCollection | 0      | train\n",
            "5 | optimizer     | Adam             | 0      | train\n",
            "-----------------------------------------------------------\n",
            "251 K     Trainable params\n",
            "0         Non-trainable params\n",
            "251 K     Total params\n",
            "1.004     Total estimated model params size (MB)\n",
            "48        Modules in train mode\n",
            "0         Modules in eval mode\n",
            "INFO:lightning.pytorch.callbacks.model_summary:\n",
            "  | Name          | Type             | Params | Mode \n",
            "-----------------------------------------------------------\n",
            "0 | model         | Sequential       | 251 K  | train\n",
            "1 | loss          | L1Loss           | 0      | train\n",
            "2 | train_metrics | MetricCollection | 0      | train\n",
            "3 | val_metrics   | MetricCollection | 0      | train\n",
            "4 | test_metrics  | MetricCollection | 0      | train\n",
            "5 | optimizer     | Adam             | 0      | train\n",
            "-----------------------------------------------------------\n",
            "251 K     Trainable params\n",
            "0         Non-trainable params\n",
            "251 K     Total params\n",
            "1.004     Total estimated model params size (MB)\n",
            "48        Modules in train mode\n",
            "0         Modules in eval mode\n",
            "/usr/local/lib/python3.11/dist-packages/lightning/pytorch/trainer/connectors/data_connector.py:425: The 'train_dataloader' does not have many workers which may be a bottleneck. Consider increasing the value of the `num_workers` argument` to `num_workers=11` in the `DataLoader` to improve performance.\n"
          ]
        },
        {
          "output_type": "display_data",
          "data": {
            "text/plain": [
              "Training: |          | 0/? [00:00<?, ?it/s]"
            ],
            "application/vnd.jupyter.widget-view+json": {
              "version_major": 2,
              "version_minor": 0,
              "model_id": "816f9db562144b58b29115d08ba4bf91"
            }
          },
          "metadata": {}
        }
      ],
      "source": [
        "localizer_with_rotation = ParticleLocalizerWithRotation(\n",
        "    model, n_transforms=8, loss=torch.nn.L1Loss(), optimizer=dl.Adam(lr=1e-3),\n",
        ").create()\n",
        "trainer_with_flips = dl.Trainer(max_epochs=100)\n",
        "trainer_with_flips.fit(localizer_with_rotation, dataloader)"
      ]
    },
    {
      "cell_type": "code",
      "execution_count": 26,
      "metadata": {
        "colab": {
          "base_uri": "https://localhost:8080/",
          "height": 356
        },
        "id": "O84nGDsisT1S",
        "outputId": "a3a2e5c4-7a1f-4a14-f349-91fadcd14d96"
      },
      "outputs": [
        {
          "output_type": "display_data",
          "data": {
            "text/plain": [
              "<Figure size 1400x800 with 2 Axes>"
            ],
            "image/png": "[encoded data removed]"
          },
          "metadata": {}
        }
      ],
      "source": [
        "predictions = (localizer_with_rotation(images).detach().numpy()\n",
        "               + image_size / 2 - 0.5)\n",
        "\n",
        "plot_position_comparison(positions, predictions)"
      ]
    }
  ],
  "metadata": {
    "kernelspec": {
      "display_name": "Python 3",
      "name": "python3"
    },
    "language_info": {
      "codemirror_mode": {
        "name": "ipython",
        "version": 3
      },
      "file_extension": ".py",
      "mimetype": "text/x-python",
      "name": "python",
      "nbconvert_exporter": "python",
      "pygments_lexer": "ipython3",
      "version": "3.10.15"
    },
    "colab": {
      "provenance": [],
      "machine_shape": "hm",
      "gpuType": "A100"
    },
    "widgets": {
      "application/vnd.jupyter.widget-state+json": {
        "93529fcda957474d82f49dc330006953": {
          "model_module": "@jupyter-widgets/controls",
          "model_name": "HBoxModel",
          "model_module_version": "1.5.0",
          "state": {
            "_dom_classes": [],
            "_model_module": "@jupyter-widgets/controls",
            "_model_module_version": "1.5.0",
            "_model_name": "HBoxModel",
            "_view_count": null,
            "_view_module": "@jupyter-widgets/controls",
            "_view_module_version": "1.5.0",
            "_view_name": "HBoxView",
            "box_style": "",
            "children": [
              "IPY_MODEL_c56b38e1d5ba4257aaa37540a36719d9",
              "IPY_MODEL_d5d846952e324176ab5cce816bf425ec",
              "IPY_MODEL_51fe6e19c0c04e74993a016dcf66fcc7"
            ],
            "layout": "IPY_MODEL_931d087368c3467ebeac6667a97af1f8"
          }
        },
        "c56b38e1d5ba4257aaa37540a36719d9": {
          "model_module": "@jupyter-widgets/controls",
          "model_name": "HTMLModel",
          "model_module_version": "1.5.0",
          "state": {
            "_dom_classes": [],
            "_model_module": "@jupyter-widgets/controls",
            "_model_module_version": "1.5.0",
            "_model_name": "HTMLModel",
            "_view_count": null,
            "_view_module": "@jupyter-widgets/controls",
            "_view_module_version": "1.5.0",
            "_view_name": "HTMLView",
            "description": "",
            "description_tooltip": null,
            "layout": "IPY_MODEL_a5cfa65b9d594aa3ad28285255c1fa74",
            "placeholder": "​",
            "style": "IPY_MODEL_559f6759896c43e4a6285a59613f3f48",
            "value": "Epoch 99: 100%"
          }
        },
        "d5d846952e324176ab5cce816bf425ec": {
          "model_module": "@jupyter-widgets/controls",
          "model_name": "FloatProgressModel",
          "model_module_version": "1.5.0",
          "state": {
            "_dom_classes": [],
            "_model_module": "@jupyter-widgets/controls",
            "_model_module_version": "1.5.0",
            "_model_name": "FloatProgressModel",
            "_view_count": null,
            "_view_module": "@jupyter-widgets/controls",
            "_view_module_version": "1.5.0",
            "_view_name": "ProgressView",
            "bar_style": "success",
            "description": "",
            "description_tooltip": null,
            "layout": "IPY_MODEL_1d2e81daaaa94bc8bb32a55b28145328",
            "max": 100,
            "min": 0,
            "orientation": "horizontal",
            "style": "IPY_MODEL_7e56062d3d6e4ff89516c7d13f32eed8",
            "value": 100
          }
        },
        "51fe6e19c0c04e74993a016dcf66fcc7": {
          "model_module": "@jupyter-widgets/controls",
          "model_name": "HTMLModel",
          "model_module_version": "1.5.0",
          "state": {
            "_dom_classes": [],
            "_model_module": "@jupyter-widgets/controls",
            "_model_module_version": "1.5.0",
            "_model_name": "HTMLModel",
            "_view_count": null,
            "_view_module": "@jupyter-widgets/controls",
            "_view_module_version": "1.5.0",
            "_view_name": "HTMLView",
            "description": "",
            "description_tooltip": null,
            "layout": "IPY_MODEL_7d84e8eaecf3487392ad9f24b5fce4a4",
            "placeholder": "​",
            "style": "IPY_MODEL_987a6d412bd94b8e868338bb48390335",
            "value": " 100/100 [00:00&lt;00:00, 102.06it/s, v_num=0, loss_step=0.0108, loss_epoch=0.00958]"
          }
        },
        "931d087368c3467ebeac6667a97af1f8": {
          "model_module": "@jupyter-widgets/base",
          "model_name": "LayoutModel",
          "model_module_version": "1.2.0",
          "state": {
            "_model_module": "@jupyter-widgets/base",
            "_model_module_version": "1.2.0",
            "_model_name": "LayoutModel",
            "_view_count": null,
            "_view_module": "@jupyter-widgets/base",
            "_view_module_version": "1.2.0",
            "_view_name": "LayoutView",
            "align_content": null,
            "align_items": null,
            "align_self": null,
            "border": null,
            "bottom": null,
            "display": "inline-flex",
            "flex": null,
            "flex_flow": "row wrap",
            "grid_area": null,
            "grid_auto_columns": null,
            "grid_auto_flow": null,
            "grid_auto_rows": null,
            "grid_column": null,
            "grid_gap": null,
            "grid_row": null,
            "grid_template_areas": null,
            "grid_template_columns": null,
            "grid_template_rows": null,
            "height": null,
            "justify_content": null,
            "justify_items": null,
            "left": null,
            "margin": null,
            "max_height": null,
            "max_width": null,
            "min_height": null,
            "min_width": null,
            "object_fit": null,
            "object_position": null,
            "order": null,
            "overflow": null,
            "overflow_x": null,
            "overflow_y": null,
            "padding": null,
            "right": null,
            "top": null,
            "visibility": null,
            "width": "100%"
          }
        },
        "a5cfa65b9d594aa3ad28285255c1fa74": {
          "model_module": "@jupyter-widgets/base",
          "model_name": "LayoutModel",
          "model_module_version": "1.2.0",
          "state": {
            "_model_module": "@jupyter-widgets/base",
            "_model_module_version": "1.2.0",
            "_model_name": "LayoutModel",
            "_view_count": null,
            "_view_module": "@jupyter-widgets/base",
            "_view_module_version": "1.2.0",
            "_view_name": "LayoutView",
            "align_content": null,
            "align_items": null,
            "align_self": null,
            "border": null,
            "bottom": null,
            "display": null,
            "flex": null,
            "flex_flow": null,
            "grid_area": null,
            "grid_auto_columns": null,
            "grid_auto_flow": null,
            "grid_auto_rows": null,
            "grid_column": null,
            "grid_gap": null,
            "grid_row": null,
            "grid_template_areas": null,
            "grid_template_columns": null,
            "grid_template_rows": null,
            "height": null,
            "justify_content": null,
            "justify_items": null,
            "left": null,
            "margin": null,
            "max_height": null,
            "max_width": null,
            "min_height": null,
            "min_width": null,
            "object_fit": null,
            "object_position": null,
            "order": null,
            "overflow": null,
            "overflow_x": null,
            "overflow_y": null,
            "padding": null,
            "right": null,
            "top": null,
            "visibility": null,
            "width": null
          }
        },
        "559f6759896c43e4a6285a59613f3f48": {
          "model_module": "@jupyter-widgets/controls",
          "model_name": "DescriptionStyleModel",
          "model_module_version": "1.5.0",
          "state": {
            "_model_module": "@jupyter-widgets/controls",
            "_model_module_version": "1.5.0",
            "_model_name": "DescriptionStyleModel",
            "_view_count": null,
            "_view_module": "@jupyter-widgets/base",
            "_view_module_version": "1.2.0",
            "_view_name": "StyleView",
            "description_width": ""
          }
        },
        "1d2e81daaaa94bc8bb32a55b28145328": {
          "model_module": "@jupyter-widgets/base",
          "model_name": "LayoutModel",
          "model_module_version": "1.2.0",
          "state": {
            "_model_module": "@jupyter-widgets/base",
            "_model_module_version": "1.2.0",
            "_model_name": "LayoutModel",
            "_view_count": null,
            "_view_module": "@jupyter-widgets/base",
            "_view_module_version": "1.2.0",
            "_view_name": "LayoutView",
            "align_content": null,
            "align_items": null,
            "align_self": null,
            "border": null,
            "bottom": null,
            "display": null,
            "flex": "2",
            "flex_flow": null,
            "grid_area": null,
            "grid_auto_columns": null,
            "grid_auto_flow": null,
            "grid_auto_rows": null,
            "grid_column": null,
            "grid_gap": null,
            "grid_row": null,
            "grid_template_areas": null,
            "grid_template_columns": null,
            "grid_template_rows": null,
            "height": null,
            "justify_content": null,
            "justify_items": null,
            "left": null,
            "margin": null,
            "max_height": null,
            "max_width": null,
            "min_height": null,
            "min_width": null,
            "object_fit": null,
            "object_position": null,
            "order": null,
            "overflow": null,
            "overflow_x": null,
            "overflow_y": null,
            "padding": null,
            "right": null,
            "top": null,
            "visibility": null,
            "width": null
          }
        },
        "7e56062d3d6e4ff89516c7d13f32eed8": {
          "model_module": "@jupyter-widgets/controls",
          "model_name": "ProgressStyleModel",
          "model_module_version": "1.5.0",
          "state": {
            "_model_module": "@jupyter-widgets/controls",
            "_model_module_version": "1.5.0",
            "_model_name": "ProgressStyleModel",
            "_view_count": null,
            "_view_module": "@jupyter-widgets/base",
            "_view_module_version": "1.2.0",
            "_view_name": "StyleView",
            "bar_color": null,
            "description_width": ""
          }
        },
        "7d84e8eaecf3487392ad9f24b5fce4a4": {
          "model_module": "@jupyter-widgets/base",
          "model_name": "LayoutModel",
          "model_module_version": "1.2.0",
          "state": {
            "_model_module": "@jupyter-widgets/base",
            "_model_module_version": "1.2.0",
            "_model_name": "LayoutModel",
            "_view_count": null,
            "_view_module": "@jupyter-widgets/base",
            "_view_module_version": "1.2.0",
            "_view_name": "LayoutView",
            "align_content": null,
            "align_items": null,
            "align_self": null,
            "border": null,
            "bottom": null,
            "display": null,
            "flex": null,
            "flex_flow": null,
            "grid_area": null,
            "grid_auto_columns": null,
            "grid_auto_flow": null,
            "grid_auto_rows": null,
            "grid_column": null,
            "grid_gap": null,
            "grid_row": null,
            "grid_template_areas": null,
            "grid_template_columns": null,
            "grid_template_rows": null,
            "height": null,
            "justify_content": null,
            "justify_items": null,
            "left": null,
            "margin": null,
            "max_height": null,
            "max_width": null,
            "min_height": null,
            "min_width": null,
            "object_fit": null,
            "object_position": null,
            "order": null,
            "overflow": null,
            "overflow_x": null,
            "overflow_y": null,
            "padding": null,
            "right": null,
            "top": null,
            "visibility": null,
            "width": null
          }
        },
        "987a6d412bd94b8e868338bb48390335": {
          "model_module": "@jupyter-widgets/controls",
          "model_name": "DescriptionStyleModel",
          "model_module_version": "1.5.0",
          "state": {
            "_model_module": "@jupyter-widgets/controls",
            "_model_module_version": "1.5.0",
            "_model_name": "DescriptionStyleModel",
            "_view_count": null,
            "_view_module": "@jupyter-widgets/base",
            "_view_module_version": "1.2.0",
            "_view_name": "StyleView",
            "description_width": ""
          }
        },
        "fd02e3f09e22456c994a11bdfdcbb4c6": {
          "model_module": "@jupyter-widgets/controls",
          "model_name": "HBoxModel",
          "model_module_version": "1.5.0",
          "state": {
            "_dom_classes": [],
            "_model_module": "@jupyter-widgets/controls",
            "_model_module_version": "1.5.0",
            "_model_name": "HBoxModel",
            "_view_count": null,
            "_view_module": "@jupyter-widgets/controls",
            "_view_module_version": "1.5.0",
            "_view_name": "HBoxView",
            "box_style": "",
            "children": [
              "IPY_MODEL_c052a33f970c43e9b2fc43bf5323ec6b",
              "IPY_MODEL_e5a41daedad84e6f8771ded024af6a06",
              "IPY_MODEL_596186e6f1a748cca8b3a17a5ea77924"
            ],
            "layout": "IPY_MODEL_9939cf35e82e4e5c805a3177860d37ce"
          }
        },
        "c052a33f970c43e9b2fc43bf5323ec6b": {
          "model_module": "@jupyter-widgets/controls",
          "model_name": "HTMLModel",
          "model_module_version": "1.5.0",
          "state": {
            "_dom_classes": [],
            "_model_module": "@jupyter-widgets/controls",
            "_model_module_version": "1.5.0",
            "_model_name": "HTMLModel",
            "_view_count": null,
            "_view_module": "@jupyter-widgets/controls",
            "_view_module_version": "1.5.0",
            "_view_name": "HTMLView",
            "description": "",
            "description_tooltip": null,
            "layout": "IPY_MODEL_bc1bac351e1c464b90ef74c9bfd57cfb",
            "placeholder": "​",
            "style": "IPY_MODEL_4b6bc48cfe7642c79ebe53d2c75e3a98",
            "value": "Epoch 99: 100%"
          }
        },
        "e5a41daedad84e6f8771ded024af6a06": {
          "model_module": "@jupyter-widgets/controls",
          "model_name": "FloatProgressModel",
          "model_module_version": "1.5.0",
          "state": {
            "_dom_classes": [],
            "_model_module": "@jupyter-widgets/controls",
            "_model_module_version": "1.5.0",
            "_model_name": "FloatProgressModel",
            "_view_count": null,
            "_view_module": "@jupyter-widgets/controls",
            "_view_module_version": "1.5.0",
            "_view_name": "ProgressView",
            "bar_style": "success",
            "description": "",
            "description_tooltip": null,
            "layout": "IPY_MODEL_dc8d6c77dc9f4dc0ac39d8c3bfca44b8",
            "max": 100,
            "min": 0,
            "orientation": "horizontal",
            "style": "IPY_MODEL_8e4886951559462cbabc6547e4bc37f3",
            "value": 100
          }
        },
        "596186e6f1a748cca8b3a17a5ea77924": {
          "model_module": "@jupyter-widgets/controls",
          "model_name": "HTMLModel",
          "model_module_version": "1.5.0",
          "state": {
            "_dom_classes": [],
            "_model_module": "@jupyter-widgets/controls",
            "_model_module_version": "1.5.0",
            "_model_name": "HTMLModel",
            "_view_count": null,
            "_view_module": "@jupyter-widgets/controls",
            "_view_module_version": "1.5.0",
            "_view_name": "HTMLView",
            "description": "",
            "description_tooltip": null,
            "layout": "IPY_MODEL_6ab8b47b83344f9a918802cd05ea4904",
            "placeholder": "​",
            "style": "IPY_MODEL_d12873e9faca4894b1b563d60176d181",
            "value": " 100/100 [00:01&lt;00:00, 96.80it/s, v_num=1, loss_step=0.583, loss_epoch=0.599]"
          }
        },
        "9939cf35e82e4e5c805a3177860d37ce": {
          "model_module": "@jupyter-widgets/base",
          "model_name": "LayoutModel",
          "model_module_version": "1.2.0",
          "state": {
            "_model_module": "@jupyter-widgets/base",
            "_model_module_version": "1.2.0",
            "_model_name": "LayoutModel",
            "_view_count": null,
            "_view_module": "@jupyter-widgets/base",
            "_view_module_version": "1.2.0",
            "_view_name": "LayoutView",
            "align_content": null,
            "align_items": null,
            "align_self": null,
            "border": null,
            "bottom": null,
            "display": "inline-flex",
            "flex": null,
            "flex_flow": "row wrap",
            "grid_area": null,
            "grid_auto_columns": null,
            "grid_auto_flow": null,
            "grid_auto_rows": null,
            "grid_column": null,
            "grid_gap": null,
            "grid_row": null,
            "grid_template_areas": null,
            "grid_template_columns": null,
            "grid_template_rows": null,
            "height": null,
            "justify_content": null,
            "justify_items": null,
            "left": null,
            "margin": null,
            "max_height": null,
            "max_width": null,
            "min_height": null,
            "min_width": null,
            "object_fit": null,
            "object_position": null,
            "order": null,
            "overflow": null,
            "overflow_x": null,
            "overflow_y": null,
            "padding": null,
            "right": null,
            "top": null,
            "visibility": null,
            "width": "100%"
          }
        },
        "bc1bac351e1c464b90ef74c9bfd57cfb": {
          "model_module": "@jupyter-widgets/base",
          "model_name": "LayoutModel",
          "model_module_version": "1.2.0",
          "state": {
            "_model_module": "@jupyter-widgets/base",
            "_model_module_version": "1.2.0",
            "_model_name": "LayoutModel",
            "_view_count": null,
            "_view_module": "@jupyter-widgets/base",
            "_view_module_version": "1.2.0",
            "_view_name": "LayoutView",
            "align_content": null,
            "align_items": null,
            "align_self": null,
            "border": null,
            "bottom": null,
            "display": null,
            "flex": null,
            "flex_flow": null,
            "grid_area": null,
            "grid_auto_columns": null,
            "grid_auto_flow": null,
            "grid_auto_rows": null,
            "grid_column": null,
            "grid_gap": null,
            "grid_row": null,
            "grid_template_areas": null,
            "grid_template_columns": null,
            "grid_template_rows": null,
            "height": null,
            "justify_content": null,
            "justify_items": null,
            "left": null,
            "margin": null,
            "max_height": null,
            "max_width": null,
            "min_height": null,
            "min_width": null,
            "object_fit": null,
            "object_position": null,
            "order": null,
            "overflow": null,
            "overflow_x": null,
            "overflow_y": null,
            "padding": null,
            "right": null,
            "top": null,
            "visibility": null,
            "width": null
          }
        },
        "4b6bc48cfe7642c79ebe53d2c75e3a98": {
          "model_module": "@jupyter-widgets/controls",
          "model_name": "DescriptionStyleModel",
          "model_module_version": "1.5.0",
          "state": {
            "_model_module": "@jupyter-widgets/controls",
            "_model_module_version": "1.5.0",
            "_model_name": "DescriptionStyleModel",
            "_view_count": null,
            "_view_module": "@jupyter-widgets/base",
            "_view_module_version": "1.2.0",
            "_view_name": "StyleView",
            "description_width": ""
          }
        },
        "dc8d6c77dc9f4dc0ac39d8c3bfca44b8": {
          "model_module": "@jupyter-widgets/base",
          "model_name": "LayoutModel",
          "model_module_version": "1.2.0",
          "state": {
            "_model_module": "@jupyter-widgets/base",
            "_model_module_version": "1.2.0",
            "_model_name": "LayoutModel",
            "_view_count": null,
            "_view_module": "@jupyter-widgets/base",
            "_view_module_version": "1.2.0",
            "_view_name": "LayoutView",
            "align_content": null,
            "align_items": null,
            "align_self": null,
            "border": null,
            "bottom": null,
            "display": null,
            "flex": "2",
            "flex_flow": null,
            "grid_area": null,
            "grid_auto_columns": null,
            "grid_auto_flow": null,
            "grid_auto_rows": null,
            "grid_column": null,
            "grid_gap": null,
            "grid_row": null,
            "grid_template_areas": null,
            "grid_template_columns": null,
            "grid_template_rows": null,
            "height": null,
            "justify_content": null,
            "justify_items": null,
            "left": null,
            "margin": null,
            "max_height": null,
            "max_width": null,
            "min_height": null,
            "min_width": null,
            "object_fit": null,
            "object_position": null,
            "order": null,
            "overflow": null,
            "overflow_x": null,
            "overflow_y": null,
            "padding": null,
            "right": null,
            "top": null,
            "visibility": null,
            "width": null
          }
        },
        "8e4886951559462cbabc6547e4bc37f3": {
          "model_module": "@jupyter-widgets/controls",
          "model_name": "ProgressStyleModel",
          "model_module_version": "1.5.0",
          "state": {
            "_model_module": "@jupyter-widgets/controls",
            "_model_module_version": "1.5.0",
            "_model_name": "ProgressStyleModel",
            "_view_count": null,
            "_view_module": "@jupyter-widgets/base",
            "_view_module_version": "1.2.0",
            "_view_name": "StyleView",
            "bar_color": null,
            "description_width": ""
          }
        },
        "6ab8b47b83344f9a918802cd05ea4904": {
          "model_module": "@jupyter-widgets/base",
          "model_name": "LayoutModel",
          "model_module_version": "1.2.0",
          "state": {
            "_model_module": "@jupyter-widgets/base",
            "_model_module_version": "1.2.0",
            "_model_name": "LayoutModel",
            "_view_count": null,
            "_view_module": "@jupyter-widgets/base",
            "_view_module_version": "1.2.0",
            "_view_name": "LayoutView",
            "align_content": null,
            "align_items": null,
            "align_self": null,
            "border": null,
            "bottom": null,
            "display": null,
            "flex": null,
            "flex_flow": null,
            "grid_area": null,
            "grid_auto_columns": null,
            "grid_auto_flow": null,
            "grid_auto_rows": null,
            "grid_column": null,
            "grid_gap": null,
            "grid_row": null,
            "grid_template_areas": null,
            "grid_template_columns": null,
            "grid_template_rows": null,
            "height": null,
            "justify_content": null,
            "justify_items": null,
            "left": null,
            "margin": null,
            "max_height": null,
            "max_width": null,
            "min_height": null,
            "min_width": null,
            "object_fit": null,
            "object_position": null,
            "order": null,
            "overflow": null,
            "overflow_x": null,
            "overflow_y": null,
            "padding": null,
            "right": null,
            "top": null,
            "visibility": null,
            "width": null
          }
        },
        "d12873e9faca4894b1b563d60176d181": {
          "model_module": "@jupyter-widgets/controls",
          "model_name": "DescriptionStyleModel",
          "model_module_version": "1.5.0",
          "state": {
            "_model_module": "@jupyter-widgets/controls",
            "_model_module_version": "1.5.0",
            "_model_name": "DescriptionStyleModel",
            "_view_count": null,
            "_view_module": "@jupyter-widgets/base",
            "_view_module_version": "1.2.0",
            "_view_name": "StyleView",
            "description_width": ""
          }
        },
        "816f9db562144b58b29115d08ba4bf91": {
          "model_module": "@jupyter-widgets/controls",
          "model_name": "HBoxModel",
          "model_module_version": "1.5.0",
          "state": {
            "_dom_classes": [],
            "_model_module": "@jupyter-widgets/controls",
            "_model_module_version": "1.5.0",
            "_model_name": "HBoxModel",
            "_view_count": null,
            "_view_module": "@jupyter-widgets/controls",
            "_view_module_version": "1.5.0",
            "_view_name": "HBoxView",
            "box_style": "",
            "children": [
              "IPY_MODEL_0cc8122366b74e7a8b50db1ef1a38c7d",
              "IPY_MODEL_89fc4b69afd14311b891a788ffbee746",
              "IPY_MODEL_0362922daf104e579927fb4d6b829de6"
            ],
            "layout": "IPY_MODEL_84128b7f36294540a62d4b30ad291412"
          }
        },
        "0cc8122366b74e7a8b50db1ef1a38c7d": {
          "model_module": "@jupyter-widgets/controls",
          "model_name": "HTMLModel",
          "model_module_version": "1.5.0",
          "state": {
            "_dom_classes": [],
            "_model_module": "@jupyter-widgets/controls",
            "_model_module_version": "1.5.0",
            "_model_name": "HTMLModel",
            "_view_count": null,
            "_view_module": "@jupyter-widgets/controls",
            "_view_module_version": "1.5.0",
            "_view_name": "HTMLView",
            "description": "",
            "description_tooltip": null,
            "layout": "IPY_MODEL_577310d270674eb18715df20606d0a11",
            "placeholder": "​",
            "style": "IPY_MODEL_cdf66ee8269e4733b44b4072165fc3b5",
            "value": "Epoch 99: 100%"
          }
        },
        "89fc4b69afd14311b891a788ffbee746": {
          "model_module": "@jupyter-widgets/controls",
          "model_name": "FloatProgressModel",
          "model_module_version": "1.5.0",
          "state": {
            "_dom_classes": [],
            "_model_module": "@jupyter-widgets/controls",
            "_model_module_version": "1.5.0",
            "_model_name": "FloatProgressModel",
            "_view_count": null,
            "_view_module": "@jupyter-widgets/controls",
            "_view_module_version": "1.5.0",
            "_view_name": "ProgressView",
            "bar_style": "success",
            "description": "",
            "description_tooltip": null,
            "layout": "IPY_MODEL_0c742a56fcc34d28805fc92ba9392388",
            "max": 100,
            "min": 0,
            "orientation": "horizontal",
            "style": "IPY_MODEL_b5e73573a59344f29b28d5735359d7ae",
            "value": 100
          }
        },
        "0362922daf104e579927fb4d6b829de6": {
          "model_module": "@jupyter-widgets/controls",
          "model_name": "HTMLModel",
          "model_module_version": "1.5.0",
          "state": {
            "_dom_classes": [],
            "_model_module": "@jupyter-widgets/controls",
            "_model_module_version": "1.5.0",
            "_model_name": "HTMLModel",
            "_view_count": null,
            "_view_module": "@jupyter-widgets/controls",
            "_view_module_version": "1.5.0",
            "_view_name": "HTMLView",
            "description": "",
            "description_tooltip": null,
            "layout": "IPY_MODEL_69672fa7a3b94caf9ac7c05ab685d513",
            "placeholder": "​",
            "style": "IPY_MODEL_f5071798ffde4ef7a9e5f11da9f2e9b6",
            "value": " 100/100 [00:01&lt;00:00, 57.97it/s, v_num=2, loss_step=0.196, loss_epoch=0.524]"
          }
        },
        "84128b7f36294540a62d4b30ad291412": {
          "model_module": "@jupyter-widgets/base",
          "model_name": "LayoutModel",
          "model_module_version": "1.2.0",
          "state": {
            "_model_module": "@jupyter-widgets/base",
            "_model_module_version": "1.2.0",
            "_model_name": "LayoutModel",
            "_view_count": null,
            "_view_module": "@jupyter-widgets/base",
            "_view_module_version": "1.2.0",
            "_view_name": "LayoutView",
            "align_content": null,
            "align_items": null,
            "align_self": null,
            "border": null,
            "bottom": null,
            "display": "inline-flex",
            "flex": null,
            "flex_flow": "row wrap",
            "grid_area": null,
            "grid_auto_columns": null,
            "grid_auto_flow": null,
            "grid_auto_rows": null,
            "grid_column": null,
            "grid_gap": null,
            "grid_row": null,
            "grid_template_areas": null,
            "grid_template_columns": null,
            "grid_template_rows": null,
            "height": null,
            "justify_content": null,
            "justify_items": null,
            "left": null,
            "margin": null,
            "max_height": null,
            "max_width": null,
            "min_height": null,
            "min_width": null,
            "object_fit": null,
            "object_position": null,
            "order": null,
            "overflow": null,
            "overflow_x": null,
            "overflow_y": null,
            "padding": null,
            "right": null,
            "top": null,
            "visibility": null,
            "width": "100%"
          }
        },
        "577310d270674eb18715df20606d0a11": {
          "model_module": "@jupyter-widgets/base",
          "model_name": "LayoutModel",
          "model_module_version": "1.2.0",
          "state": {
            "_model_module": "@jupyter-widgets/base",
            "_model_module_version": "1.2.0",
            "_model_name": "LayoutModel",
            "_view_count": null,
            "_view_module": "@jupyter-widgets/base",
            "_view_module_version": "1.2.0",
            "_view_name": "LayoutView",
            "align_content": null,
            "align_items": null,
            "align_self": null,
            "border": null,
            "bottom": null,
            "display": null,
            "flex": null,
            "flex_flow": null,
            "grid_area": null,
            "grid_auto_columns": null,
            "grid_auto_flow": null,
            "grid_auto_rows": null,
            "grid_column": null,
            "grid_gap": null,
            "grid_row": null,
            "grid_template_areas": null,
            "grid_template_columns": null,
            "grid_template_rows": null,
            "height": null,
            "justify_content": null,
            "justify_items": null,
            "left": null,
            "margin": null,
            "max_height": null,
            "max_width": null,
            "min_height": null,
            "min_width": null,
            "object_fit": null,
            "object_position": null,
            "order": null,
            "overflow": null,
            "overflow_x": null,
            "overflow_y": null,
            "padding": null,
            "right": null,
            "top": null,
            "visibility": null,
            "width": null
          }
        },
        "cdf66ee8269e4733b44b4072165fc3b5": {
          "model_module": "@jupyter-widgets/controls",
          "model_name": "DescriptionStyleModel",
          "model_module_version": "1.5.0",
          "state": {
            "_model_module": "@jupyter-widgets/controls",
            "_model_module_version": "1.5.0",
            "_model_name": "DescriptionStyleModel",
            "_view_count": null,
            "_view_module": "@jupyter-widgets/base",
            "_view_module_version": "1.2.0",
            "_view_name": "StyleView",
            "description_width": ""
          }
        },
        "0c742a56fcc34d28805fc92ba9392388": {
          "model_module": "@jupyter-widgets/base",
          "model_name": "LayoutModel",
          "model_module_version": "1.2.0",
          "state": {
            "_model_module": "@jupyter-widgets/base",
            "_model_module_version": "1.2.0",
            "_model_name": "LayoutModel",
            "_view_count": null,
            "_view_module": "@jupyter-widgets/base",
            "_view_module_version": "1.2.0",
            "_view_name": "LayoutView",
            "align_content": null,
            "align_items": null,
            "align_self": null,
            "border": null,
            "bottom": null,
            "display": null,
            "flex": "2",
            "flex_flow": null,
            "grid_area": null,
            "grid_auto_columns": null,
            "grid_auto_flow": null,
            "grid_auto_rows": null,
            "grid_column": null,
            "grid_gap": null,
            "grid_row": null,
            "grid_template_areas": null,
            "grid_template_columns": null,
            "grid_template_rows": null,
            "height": null,
            "justify_content": null,
            "justify_items": null,
            "left": null,
            "margin": null,
            "max_height": null,
            "max_width": null,
            "min_height": null,
            "min_width": null,
            "object_fit": null,
            "object_position": null,
            "order": null,
            "overflow": null,
            "overflow_x": null,
            "overflow_y": null,
            "padding": null,
            "right": null,
            "top": null,
            "visibility": null,
            "width": null
          }
        },
        "b5e73573a59344f29b28d5735359d7ae": {
          "model_module": "@jupyter-widgets/controls",
          "model_name": "ProgressStyleModel",
          "model_module_version": "1.5.0",
          "state": {
            "_model_module": "@jupyter-widgets/controls",
            "_model_module_version": "1.5.0",
            "_model_name": "ProgressStyleModel",
            "_view_count": null,
            "_view_module": "@jupyter-widgets/base",
            "_view_module_version": "1.2.0",
            "_view_name": "StyleView",
            "bar_color": null,
            "description_width": ""
          }
        },
        "69672fa7a3b94caf9ac7c05ab685d513": {
          "model_module": "@jupyter-widgets/base",
          "model_name": "LayoutModel",
          "model_module_version": "1.2.0",
          "state": {
            "_model_module": "@jupyter-widgets/base",
            "_model_module_version": "1.2.0",
            "_model_name": "LayoutModel",
            "_view_count": null,
            "_view_module": "@jupyter-widgets/base",
            "_view_module_version": "1.2.0",
            "_view_name": "LayoutView",
            "align_content": null,
            "align_items": null,
            "align_self": null,
            "border": null,
            "bottom": null,
            "display": null,
            "flex": null,
            "flex_flow": null,
            "grid_area": null,
            "grid_auto_columns": null,
            "grid_auto_flow": null,
            "grid_auto_rows": null,
            "grid_column": null,
            "grid_gap": null,
            "grid_row": null,
            "grid_template_areas": null,
            "grid_template_columns": null,
            "grid_template_rows": null,
            "height": null,
            "justify_content": null,
            "justify_items": null,
            "left": null,
            "margin": null,
            "max_height": null,
            "max_width": null,
            "min_height": null,
            "min_width": null,
            "object_fit": null,
            "object_position": null,
            "order": null,
            "overflow": null,
            "overflow_x": null,
            "overflow_y": null,
            "padding": null,
            "right": null,
            "top": null,
            "visibility": null,
            "width": null
          }
        },
        "f5071798ffde4ef7a9e5f11da9f2e9b6": {
          "model_module": "@jupyter-widgets/controls",
          "model_name": "DescriptionStyleModel",
          "model_module_version": "1.5.0",
          "state": {
            "_model_module": "@jupyter-widgets/controls",
            "_model_module_version": "1.5.0",
            "_model_name": "DescriptionStyleModel",
            "_view_count": null,
            "_view_module": "@jupyter-widgets/base",
            "_view_module_version": "1.2.0",
            "_view_name": "StyleView",
            "description_width": ""
          }
        }
      }
    },
    "accelerator": "GPU"
  },
  "nbformat": 4,
  "nbformat_minor": 0
}